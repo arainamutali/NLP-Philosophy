{
  "cells": [
    {
      "cell_type": "code",
      "source": [
        "from google.colab import drive\n",
        "import os\n",
        "import requests\n",
        "\n",
        "drive.mount('/content/drive')\n"
      ],
      "metadata": {
        "colab": {
          "base_uri": "https://localhost:8080/"
        },
        "id": "NzX0DoL3PM_I",
        "outputId": "2e8ec208-deaa-4ff2-c7d4-d3ec75531d3f"
      },
      "execution_count": 5,
      "outputs": [
        {
          "output_type": "stream",
          "name": "stdout",
          "text": [
            "Drive already mounted at /content/drive; to attempt to forcibly remount, call drive.mount(\"/content/drive\", force_remount=True).\n"
          ]
        }
      ]
    },
    {
      "cell_type": "code",
      "execution_count": 6,
      "metadata": {
        "id": "UHo78m5Y2Ury"
      },
      "outputs": [],
      "source": [
        "import pandas as pd\n",
        "df = pd.read_csv(\"/content/drive/MyDrive/pj/csv/nlp_project_final.csv\")\n"
      ]
    },
    {
      "cell_type": "code",
      "source": [
        "df.sample(5)"
      ],
      "metadata": {
        "colab": {
          "base_uri": "https://localhost:8080/",
          "height": 578
        },
        "id": "XjyITsuG3ne3",
        "outputId": "e68793e0-e844-4f5f-acae-68e944d32920"
      },
      "execution_count": 25,
      "outputs": [
        {
          "output_type": "execute_result",
          "data": {
            "text/plain": [
              "               school                  title  \\\n",
              "57761    rationalists  descartes_meditations   \n",
              "188809  phenomenology       ponty_perception   \n",
              "3067        aristotle               volume_1   \n",
              "36377       aristotle               volume_2   \n",
              "58940    rationalists  descartes_meditations   \n",
              "\n",
              "                                             sentence_str  \\\n",
              "57761   Whether all knowledge depends on the knowledge...   \n",
              "188809  It is not without meaning, since behind it the...   \n",
              "3067    One thing belongs to another in itself both if...   \n",
              "36377   So that the principle also, choice, changes vo...   \n",
              "58940   But I will just brieﬂy deal with those points ...   \n",
              "\n",
              "                                             cleaned_text  sentence_length  \\\n",
              "57761   Whether all knowledge depends on the knowledge...              386   \n",
              "188809  It is not without meaning, since behind it the...              227   \n",
              "3067    One thing belongs to another in itself both if...              558   \n",
              "36377   So that the principle also, choice, changes vo...               56   \n",
              "58940   But I will just brieﬂy deal with those points ...              118   \n",
              "\n",
              "                                         sentence_lowered  \\\n",
              "57761   whether all knowledge depends on the knowledge...   \n",
              "188809  it is not without meaning, since behind it the...   \n",
              "3067    one thing belongs to another in itself both if...   \n",
              "36377   so that the principle also, choice, changes vo...   \n",
              "58940   but i will just brieﬂy deal with those points ...   \n",
              "\n",
              "                                            tokenized_txt  \\\n",
              "57761   ['whether', 'all', 'knowledge', 'depends', 'on...   \n",
              "188809  ['it', 'is', 'not', 'without', 'meaning', 'sin...   \n",
              "3067    ['one', 'thing', 'belongs', 'to', 'another', '...   \n",
              "36377   ['so', 'that', 'the', 'principle', 'also', 'ch...   \n",
              "58940   ['but', 'will', 'just', 'brieﬂy', 'deal', 'wit...   \n",
              "\n",
              "                                           lemmatized_str  \\\n",
              "57761   whether all knowledge depend on the knowledge ...   \n",
              "188809  it be not without meaning , since behind it th...   \n",
              "3067    one thing belong to another in itself both if ...   \n",
              "36377   so that the principle also , choice , change v...   \n",
              "58940   but I will just brieﬂy deal with those point t...   \n",
              "\n",
              "                                         gensim_tokenized  \n",
              "57761   [whether, all, knowledge, depends, on, the, kn...  \n",
              "188809  [it, is, not, without, meaning, since, behind,...  \n",
              "3067    [one, thing, belongs, to, another, in, itself,...  \n",
              "36377   [so, that, the, principle, also, choice, chang...  \n",
              "58940   [but, will, just, brieﬂy, deal, with, those, p...  "
            ],
            "text/html": [
              "\n",
              "  <div id=\"df-c88a018a-bb27-4121-adfb-b20ba7e232a3\" class=\"colab-df-container\">\n",
              "    <div>\n",
              "<style scoped>\n",
              "    .dataframe tbody tr th:only-of-type {\n",
              "        vertical-align: middle;\n",
              "    }\n",
              "\n",
              "    .dataframe tbody tr th {\n",
              "        vertical-align: top;\n",
              "    }\n",
              "\n",
              "    .dataframe thead th {\n",
              "        text-align: right;\n",
              "    }\n",
              "</style>\n",
              "<table border=\"1\" class=\"dataframe\">\n",
              "  <thead>\n",
              "    <tr style=\"text-align: right;\">\n",
              "      <th></th>\n",
              "      <th>school</th>\n",
              "      <th>title</th>\n",
              "      <th>sentence_str</th>\n",
              "      <th>cleaned_text</th>\n",
              "      <th>sentence_length</th>\n",
              "      <th>sentence_lowered</th>\n",
              "      <th>tokenized_txt</th>\n",
              "      <th>lemmatized_str</th>\n",
              "      <th>gensim_tokenized</th>\n",
              "    </tr>\n",
              "  </thead>\n",
              "  <tbody>\n",
              "    <tr>\n",
              "      <th>57761</th>\n",
              "      <td>rationalists</td>\n",
              "      <td>descartes_meditations</td>\n",
              "      <td>Whether all knowledge depends on the knowledge...</td>\n",
              "      <td>Whether all knowledge depends on the knowledge...</td>\n",
              "      <td>386</td>\n",
              "      <td>whether all knowledge depends on the knowledge...</td>\n",
              "      <td>['whether', 'all', 'knowledge', 'depends', 'on...</td>\n",
              "      <td>whether all knowledge depend on the knowledge ...</td>\n",
              "      <td>[whether, all, knowledge, depends, on, the, kn...</td>\n",
              "    </tr>\n",
              "    <tr>\n",
              "      <th>188809</th>\n",
              "      <td>phenomenology</td>\n",
              "      <td>ponty_perception</td>\n",
              "      <td>It is not without meaning, since behind it the...</td>\n",
              "      <td>It is not without meaning, since behind it the...</td>\n",
              "      <td>227</td>\n",
              "      <td>it is not without meaning, since behind it the...</td>\n",
              "      <td>['it', 'is', 'not', 'without', 'meaning', 'sin...</td>\n",
              "      <td>it be not without meaning , since behind it th...</td>\n",
              "      <td>[it, is, not, without, meaning, since, behind,...</td>\n",
              "    </tr>\n",
              "    <tr>\n",
              "      <th>3067</th>\n",
              "      <td>aristotle</td>\n",
              "      <td>volume_1</td>\n",
              "      <td>One thing belongs to another in itself both if...</td>\n",
              "      <td>One thing belongs to another in itself both if...</td>\n",
              "      <td>558</td>\n",
              "      <td>one thing belongs to another in itself both if...</td>\n",
              "      <td>['one', 'thing', 'belongs', 'to', 'another', '...</td>\n",
              "      <td>one thing belong to another in itself both if ...</td>\n",
              "      <td>[one, thing, belongs, to, another, in, itself,...</td>\n",
              "    </tr>\n",
              "    <tr>\n",
              "      <th>36377</th>\n",
              "      <td>aristotle</td>\n",
              "      <td>volume_2</td>\n",
              "      <td>So that the principle also, choice, changes vo...</td>\n",
              "      <td>So that the principle also, choice, changes vo...</td>\n",
              "      <td>56</td>\n",
              "      <td>so that the principle also, choice, changes vo...</td>\n",
              "      <td>['so', 'that', 'the', 'principle', 'also', 'ch...</td>\n",
              "      <td>so that the principle also , choice , change v...</td>\n",
              "      <td>[so, that, the, principle, also, choice, chang...</td>\n",
              "    </tr>\n",
              "    <tr>\n",
              "      <th>58940</th>\n",
              "      <td>rationalists</td>\n",
              "      <td>descartes_meditations</td>\n",
              "      <td>But I will just brieﬂy deal with those points ...</td>\n",
              "      <td>But I will just brieﬂy deal with those points ...</td>\n",
              "      <td>118</td>\n",
              "      <td>but i will just brieﬂy deal with those points ...</td>\n",
              "      <td>['but', 'will', 'just', 'brieﬂy', 'deal', 'wit...</td>\n",
              "      <td>but I will just brieﬂy deal with those point t...</td>\n",
              "      <td>[but, will, just, brieﬂy, deal, with, those, p...</td>\n",
              "    </tr>\n",
              "  </tbody>\n",
              "</table>\n",
              "</div>\n",
              "    <div class=\"colab-df-buttons\">\n",
              "\n",
              "  <div class=\"colab-df-container\">\n",
              "    <button class=\"colab-df-convert\" onclick=\"convertToInteractive('df-c88a018a-bb27-4121-adfb-b20ba7e232a3')\"\n",
              "            title=\"Convert this dataframe to an interactive table.\"\n",
              "            style=\"display:none;\">\n",
              "\n",
              "  <svg xmlns=\"http://www.w3.org/2000/svg\" height=\"24px\" viewBox=\"0 -960 960 960\">\n",
              "    <path d=\"M120-120v-720h720v720H120Zm60-500h600v-160H180v160Zm220 220h160v-160H400v160Zm0 220h160v-160H400v160ZM180-400h160v-160H180v160Zm440 0h160v-160H620v160ZM180-180h160v-160H180v160Zm440 0h160v-160H620v160Z\"/>\n",
              "  </svg>\n",
              "    </button>\n",
              "\n",
              "  <style>\n",
              "    .colab-df-container {\n",
              "      display:flex;\n",
              "      gap: 12px;\n",
              "    }\n",
              "\n",
              "    .colab-df-convert {\n",
              "      background-color: #E8F0FE;\n",
              "      border: none;\n",
              "      border-radius: 50%;\n",
              "      cursor: pointer;\n",
              "      display: none;\n",
              "      fill: #1967D2;\n",
              "      height: 32px;\n",
              "      padding: 0 0 0 0;\n",
              "      width: 32px;\n",
              "    }\n",
              "\n",
              "    .colab-df-convert:hover {\n",
              "      background-color: #E2EBFA;\n",
              "      box-shadow: 0px 1px 2px rgba(60, 64, 67, 0.3), 0px 1px 3px 1px rgba(60, 64, 67, 0.15);\n",
              "      fill: #174EA6;\n",
              "    }\n",
              "\n",
              "    .colab-df-buttons div {\n",
              "      margin-bottom: 4px;\n",
              "    }\n",
              "\n",
              "    [theme=dark] .colab-df-convert {\n",
              "      background-color: #3B4455;\n",
              "      fill: #D2E3FC;\n",
              "    }\n",
              "\n",
              "    [theme=dark] .colab-df-convert:hover {\n",
              "      background-color: #434B5C;\n",
              "      box-shadow: 0px 1px 3px 1px rgba(0, 0, 0, 0.15);\n",
              "      filter: drop-shadow(0px 1px 2px rgba(0, 0, 0, 0.3));\n",
              "      fill: #FFFFFF;\n",
              "    }\n",
              "  </style>\n",
              "\n",
              "    <script>\n",
              "      const buttonEl =\n",
              "        document.querySelector('#df-c88a018a-bb27-4121-adfb-b20ba7e232a3 button.colab-df-convert');\n",
              "      buttonEl.style.display =\n",
              "        google.colab.kernel.accessAllowed ? 'block' : 'none';\n",
              "\n",
              "      async function convertToInteractive(key) {\n",
              "        const element = document.querySelector('#df-c88a018a-bb27-4121-adfb-b20ba7e232a3');\n",
              "        const dataTable =\n",
              "          await google.colab.kernel.invokeFunction('convertToInteractive',\n",
              "                                                    [key], {});\n",
              "        if (!dataTable) return;\n",
              "\n",
              "        const docLinkHtml = 'Like what you see? Visit the ' +\n",
              "          '<a target=\"_blank\" href=https://colab.research.google.com/notebooks/data_table.ipynb>data table notebook</a>'\n",
              "          + ' to learn more about interactive tables.';\n",
              "        element.innerHTML = '';\n",
              "        dataTable['output_type'] = 'display_data';\n",
              "        await google.colab.output.renderOutput(dataTable, element);\n",
              "        const docLink = document.createElement('div');\n",
              "        docLink.innerHTML = docLinkHtml;\n",
              "        element.appendChild(docLink);\n",
              "      }\n",
              "    </script>\n",
              "  </div>\n",
              "\n",
              "\n",
              "<div id=\"df-97eb82a6-409f-4c95-b464-3451beb6c4af\">\n",
              "  <button class=\"colab-df-quickchart\" onclick=\"quickchart('df-97eb82a6-409f-4c95-b464-3451beb6c4af')\"\n",
              "            title=\"Suggest charts\"\n",
              "            style=\"display:none;\">\n",
              "\n",
              "<svg xmlns=\"http://www.w3.org/2000/svg\" height=\"24px\"viewBox=\"0 0 24 24\"\n",
              "     width=\"24px\">\n",
              "    <g>\n",
              "        <path d=\"M19 3H5c-1.1 0-2 .9-2 2v14c0 1.1.9 2 2 2h14c1.1 0 2-.9 2-2V5c0-1.1-.9-2-2-2zM9 17H7v-7h2v7zm4 0h-2V7h2v10zm4 0h-2v-4h2v4z\"/>\n",
              "    </g>\n",
              "</svg>\n",
              "  </button>\n",
              "\n",
              "<style>\n",
              "  .colab-df-quickchart {\n",
              "      --bg-color: #E8F0FE;\n",
              "      --fill-color: #1967D2;\n",
              "      --hover-bg-color: #E2EBFA;\n",
              "      --hover-fill-color: #174EA6;\n",
              "      --disabled-fill-color: #AAA;\n",
              "      --disabled-bg-color: #DDD;\n",
              "  }\n",
              "\n",
              "  [theme=dark] .colab-df-quickchart {\n",
              "      --bg-color: #3B4455;\n",
              "      --fill-color: #D2E3FC;\n",
              "      --hover-bg-color: #434B5C;\n",
              "      --hover-fill-color: #FFFFFF;\n",
              "      --disabled-bg-color: #3B4455;\n",
              "      --disabled-fill-color: #666;\n",
              "  }\n",
              "\n",
              "  .colab-df-quickchart {\n",
              "    background-color: var(--bg-color);\n",
              "    border: none;\n",
              "    border-radius: 50%;\n",
              "    cursor: pointer;\n",
              "    display: none;\n",
              "    fill: var(--fill-color);\n",
              "    height: 32px;\n",
              "    padding: 0;\n",
              "    width: 32px;\n",
              "  }\n",
              "\n",
              "  .colab-df-quickchart:hover {\n",
              "    background-color: var(--hover-bg-color);\n",
              "    box-shadow: 0 1px 2px rgba(60, 64, 67, 0.3), 0 1px 3px 1px rgba(60, 64, 67, 0.15);\n",
              "    fill: var(--button-hover-fill-color);\n",
              "  }\n",
              "\n",
              "  .colab-df-quickchart-complete:disabled,\n",
              "  .colab-df-quickchart-complete:disabled:hover {\n",
              "    background-color: var(--disabled-bg-color);\n",
              "    fill: var(--disabled-fill-color);\n",
              "    box-shadow: none;\n",
              "  }\n",
              "\n",
              "  .colab-df-spinner {\n",
              "    border: 2px solid var(--fill-color);\n",
              "    border-color: transparent;\n",
              "    border-bottom-color: var(--fill-color);\n",
              "    animation:\n",
              "      spin 1s steps(1) infinite;\n",
              "  }\n",
              "\n",
              "  @keyframes spin {\n",
              "    0% {\n",
              "      border-color: transparent;\n",
              "      border-bottom-color: var(--fill-color);\n",
              "      border-left-color: var(--fill-color);\n",
              "    }\n",
              "    20% {\n",
              "      border-color: transparent;\n",
              "      border-left-color: var(--fill-color);\n",
              "      border-top-color: var(--fill-color);\n",
              "    }\n",
              "    30% {\n",
              "      border-color: transparent;\n",
              "      border-left-color: var(--fill-color);\n",
              "      border-top-color: var(--fill-color);\n",
              "      border-right-color: var(--fill-color);\n",
              "    }\n",
              "    40% {\n",
              "      border-color: transparent;\n",
              "      border-right-color: var(--fill-color);\n",
              "      border-top-color: var(--fill-color);\n",
              "    }\n",
              "    60% {\n",
              "      border-color: transparent;\n",
              "      border-right-color: var(--fill-color);\n",
              "    }\n",
              "    80% {\n",
              "      border-color: transparent;\n",
              "      border-right-color: var(--fill-color);\n",
              "      border-bottom-color: var(--fill-color);\n",
              "    }\n",
              "    90% {\n",
              "      border-color: transparent;\n",
              "      border-bottom-color: var(--fill-color);\n",
              "    }\n",
              "  }\n",
              "</style>\n",
              "\n",
              "  <script>\n",
              "    async function quickchart(key) {\n",
              "      const quickchartButtonEl =\n",
              "        document.querySelector('#' + key + ' button');\n",
              "      quickchartButtonEl.disabled = true;  // To prevent multiple clicks.\n",
              "      quickchartButtonEl.classList.add('colab-df-spinner');\n",
              "      try {\n",
              "        const charts = await google.colab.kernel.invokeFunction(\n",
              "            'suggestCharts', [key], {});\n",
              "      } catch (error) {\n",
              "        console.error('Error during call to suggestCharts:', error);\n",
              "      }\n",
              "      quickchartButtonEl.classList.remove('colab-df-spinner');\n",
              "      quickchartButtonEl.classList.add('colab-df-quickchart-complete');\n",
              "    }\n",
              "    (() => {\n",
              "      let quickchartButtonEl =\n",
              "        document.querySelector('#df-97eb82a6-409f-4c95-b464-3451beb6c4af button');\n",
              "      quickchartButtonEl.style.display =\n",
              "        google.colab.kernel.accessAllowed ? 'block' : 'none';\n",
              "    })();\n",
              "  </script>\n",
              "</div>\n",
              "\n",
              "    </div>\n",
              "  </div>\n"
            ],
            "application/vnd.google.colaboratory.intrinsic+json": {
              "type": "dataframe",
              "summary": "{\n  \"name\": \"df\",\n  \"rows\": 5,\n  \"fields\": [\n    {\n      \"column\": \"school\",\n      \"properties\": {\n        \"dtype\": \"string\",\n        \"num_unique_values\": 3,\n        \"samples\": [\n          \"rationalists\",\n          \"phenomenology\",\n          \"aristotle\"\n        ],\n        \"semantic_type\": \"\",\n        \"description\": \"\"\n      }\n    },\n    {\n      \"column\": \"title\",\n      \"properties\": {\n        \"dtype\": \"string\",\n        \"num_unique_values\": 4,\n        \"samples\": [\n          \"ponty_perception\",\n          \"volume_2\",\n          \"descartes_meditations\"\n        ],\n        \"semantic_type\": \"\",\n        \"description\": \"\"\n      }\n    },\n    {\n      \"column\": \"sentence_str\",\n      \"properties\": {\n        \"dtype\": \"string\",\n        \"num_unique_values\": 5,\n        \"samples\": [\n          \"It is not without meaning, since behind it there is a categorial operation, but this meaning is something which it does not have, does not possess, since it is thought which has a meaning, the word remaining an empty container.\",\n          \"But I will just brie\\ufb02y deal with those points that, it seems, could detain readers who are not completely incompetent.\",\n          \"One thing belongs to another in itself both if it belongs to it in what it is eg line to triangle and point to line (for their substance depends on these and they belong in the account which says what they are) and also if the things it belongs to themselves belong in the account which makes clear what it is eg straight belongs to line and so does curved, and odd and even to number, and prime and composite, and equilateral and oblong; and for all these there belongs in the account which says what they are in the one case line, and in the others number.\"\n        ],\n        \"semantic_type\": \"\",\n        \"description\": \"\"\n      }\n    },\n    {\n      \"column\": \"cleaned_text\",\n      \"properties\": {\n        \"dtype\": \"string\",\n        \"num_unique_values\": 5,\n        \"samples\": [\n          \"It is not without meaning, since behind it there is a categorial operation, but this meaning is something which it does not have, does not possess, since it is thought which has a meaning, the word remaining an empty container.\",\n          \"But I will just brie\\ufb02y deal with those points that, it seems, could detain readers who are not completely incompetent.\",\n          \"One thing belongs to another in itself both if it belongs to it in what it is eg line to triangle and point to line (for their substance depends on these and they belong in the account which says what they are) and also if the things it belongs to themselves belong in the account which makes clear what it is eg straight belongs to line and so does curved, and odd and even to number, and prime and composite, and equilateral and oblong; and for all these there belongs in the account which says what they are in the one case line, and in the others number.\"\n        ],\n        \"semantic_type\": \"\",\n        \"description\": \"\"\n      }\n    },\n    {\n      \"column\": \"sentence_length\",\n      \"properties\": {\n        \"dtype\": \"number\",\n        \"std\": 204,\n        \"min\": 56,\n        \"max\": 558,\n        \"num_unique_values\": 5,\n        \"samples\": [\n          227,\n          118,\n          558\n        ],\n        \"semantic_type\": \"\",\n        \"description\": \"\"\n      }\n    },\n    {\n      \"column\": \"sentence_lowered\",\n      \"properties\": {\n        \"dtype\": \"string\",\n        \"num_unique_values\": 5,\n        \"samples\": [\n          \"it is not without meaning, since behind it there is a categorial operation, but this meaning is something which it does not have, does not possess, since it is thought which has a meaning, the word remaining an empty container.\",\n          \"but i will just brie\\ufb02y deal with those points that, it seems, could detain readers who are not completely incompetent.\",\n          \"one thing belongs to another in itself both if it belongs to it in what it is eg line to triangle and point to line (for their substance depends on these and they belong in the account which says what they are) and also if the things it belongs to themselves belong in the account which makes clear what it is eg straight belongs to line and so does curved, and odd and even to number, and prime and composite, and equilateral and oblong; and for all these there belongs in the account which says what they are in the one case line, and in the others number.\"\n        ],\n        \"semantic_type\": \"\",\n        \"description\": \"\"\n      }\n    },\n    {\n      \"column\": \"tokenized_txt\",\n      \"properties\": {\n        \"dtype\": \"string\",\n        \"num_unique_values\": 5,\n        \"samples\": [\n          \"['it', 'is', 'not', 'without', 'meaning', 'since', 'behind', 'it', 'there', 'is', 'categorial', 'operation', 'but', 'this', 'meaning', 'is', 'something', 'which', 'it', 'does', 'not', 'have', 'does', 'not', 'possess', 'since', 'it', 'is', 'thought', 'which', 'has', 'meaning', 'the', 'word', 'remaining', 'an', 'empty', 'container']\",\n          \"['but', 'will', 'just', 'brie\\ufb02y', 'deal', 'with', 'those', 'points', 'that', 'it', 'seems', 'could', 'detain', 'readers', 'who', 'are', 'not', 'completely', 'incompetent']\",\n          \"['one', 'thing', 'belongs', 'to', 'another', 'in', 'itself', 'both', 'if', 'it', 'belongs', 'to', 'it', 'in', 'what', 'it', 'is', 'eg', 'line', 'to', 'triangle', 'and', 'point', 'to', 'line', 'for', 'their', 'substance', 'depends', 'on', 'these', 'and', 'they', 'belong', 'in', 'the', 'account', 'which', 'says', 'what', 'they', 'are', 'and', 'also', 'if', 'the', 'things', 'it', 'belongs', 'to', 'themselves', 'belong', 'in', 'the', 'account', 'which', 'makes', 'clear', 'what', 'it', 'is', 'eg', 'straight', 'belongs', 'to', 'line', 'and', 'so', 'does', 'curved', 'and', 'odd', 'and', 'even', 'to', 'number', 'and', 'prime', 'and', 'composite', 'and', 'equilateral', 'and', 'oblong', 'and', 'for', 'all', 'these', 'there', 'belongs', 'in', 'the', 'account', 'which', 'says', 'what', 'they', 'are', 'in', 'the', 'one', 'case', 'line', 'and', 'in', 'the', 'others', 'number']\"\n        ],\n        \"semantic_type\": \"\",\n        \"description\": \"\"\n      }\n    },\n    {\n      \"column\": \"lemmatized_str\",\n      \"properties\": {\n        \"dtype\": \"string\",\n        \"num_unique_values\": 5,\n        \"samples\": [\n          \"it be not without meaning , since behind it there be a categorial operation , but this meaning be something which it do not have , do not possess , since it be think which have a meaning , the word remain an empty container .\",\n          \"but I will just brie\\ufb02y deal with those point that , it seem , could detain reader who be not completely incompetent .\",\n          \"one thing belong to another in itself both if it belong to it in what it be eg line to triangle and point to line ( for their substance depend on these and they belong in the account which say what they be ) and also if the thing it belong to themselves belong in the account which make clear what it be eg straight belong to line and so do curve , and odd and even to number , and prime and composite , and equilateral and oblong ; and for all these there belong in the account which say what they be in the one case line , and in the other number .\"\n        ],\n        \"semantic_type\": \"\",\n        \"description\": \"\"\n      }\n    },\n    {\n      \"column\": \"gensim_tokenized\",\n      \"properties\": {\n        \"dtype\": \"object\",\n        \"semantic_type\": \"\",\n        \"description\": \"\"\n      }\n    }\n  ]\n}"
            }
          },
          "metadata": {},
          "execution_count": 25
        }
      ]
    },
    {
      "cell_type": "code",
      "source": [
        "from gensim.utils import simple_preprocess\n"
      ],
      "metadata": {
        "id": "qPVhaUu2AlT0"
      },
      "execution_count": 8,
      "outputs": []
    },
    {
      "cell_type": "code",
      "source": [
        "# using gensim's built-in tokenizer\n",
        "df['gensim_tokenized'] = df['sentence_str'].map(lambda x: simple_preprocess(x.lower(),deacc=True,\n",
        "                                                        max_len=100))"
      ],
      "metadata": {
        "id": "UJaFo-F5Ae_Z"
      },
      "execution_count": 9,
      "outputs": []
    },
    {
      "cell_type": "code",
      "source": [
        "print(df.iloc[262231]['sentence_lowered'])\n",
        "df['gensim_tokenized'][262231]\n"
      ],
      "metadata": {
        "colab": {
          "base_uri": "https://localhost:8080/"
        },
        "id": "NZ4oz86E9LHQ",
        "outputId": "cda76682-e5a0-4ca8-d7b1-cb5c809d53f4"
      },
      "execution_count": 10,
      "outputs": [
        {
          "output_type": "stream",
          "name": "stdout",
          "text": [
            "resolution passed by the congress of the league and 'amendments' thereto, two congresses.)\n"
          ]
        },
        {
          "output_type": "execute_result",
          "data": {
            "text/plain": [
              "['resolution',\n",
              " 'passed',\n",
              " 'by',\n",
              " 'the',\n",
              " 'congress',\n",
              " 'of',\n",
              " 'the',\n",
              " 'league',\n",
              " 'and',\n",
              " 'amendments',\n",
              " 'thereto',\n",
              " 'two',\n",
              " 'congresses']"
            ]
          },
          "metadata": {},
          "execution_count": 10
        }
      ]
    },
    {
      "cell_type": "code",
      "source": [
        "from gensim.models import Phrases\n",
        "from gensim.models.phrases import Phraser\n",
        "from gensim.models import Word2Vec\n"
      ],
      "metadata": {
        "id": "06jqiGWq_304"
      },
      "execution_count": 11,
      "outputs": []
    },
    {
      "cell_type": "code",
      "source": [
        "def make_w2v(series, stopwords=[], size=200, window=5, min_count=5, workers=-1,\n",
        "             epochs=20, lowercase=True, sg=0, seed=17, cbow_mean=1, alpha=0.025,\n",
        "             sample=0.001, use_bigrams=True, threshold=10, bigram_min=5):\n",
        "  # turn the series into a list, lower it, clean it\n",
        "    sentences = [sentence for sentence in series]\n",
        "    if lowercase:\n",
        "      cleaned = []\n",
        "      for sentence in sentences:\n",
        "        cleaned_sentence = [word.lower() for word in sentence]\n",
        "        cleaned_sentence = [word for word in sentence if word not in stopwords]\n",
        "        cleaned.append(cleaned_sentence)\n",
        "    else:\n",
        "      cleaned = []\n",
        "      for sentence in sentences:\n",
        "        cleaned_sentence = [word for word in sentence]\n",
        "        cleaned_sentence = [word for word in sentence if word not in stopwords]\n",
        "        cleaned.append(cleaned_sentence)\n",
        "\n",
        "  # incorporate bigrams\n",
        "    if use_bigrams:\n",
        "      bigram = Phrases(cleaned, min_count=bigram_min, threshold=threshold, delimiter=b' ')\n",
        "      bigram_phraser = Phraser(bigram)\n",
        "      tokens_list = []\n",
        "      for sent in cleaned:\n",
        "        tokens_ = bigram_phraser[sent]\n",
        "        tokens_list.append(tokens_)\n",
        "      cleaned = tokens_list\n",
        "    else:\n",
        "      cleaned = cleaned\n",
        "\n",
        "  # build the model\n",
        "    model = Word2Vec(cleaned, size=size, window=window,\n",
        "                     min_count=min_count, workers=workers, seed=seed, sg=sg,\n",
        "                     cbow_mean=cbow_mean, alpha=alpha, sample=sample)\n",
        "    model.train(series, total_examples=model.corpus_count, epochs=epochs)\n",
        "    model_wv = model.wv\n",
        "\n",
        "  # clear it to avoid unwanted transference\n",
        "    del model\n",
        "\n",
        "    return model_wv"
      ],
      "metadata": {
        "id": "uBlkf41u9J3G"
      },
      "execution_count": 12,
      "outputs": []
    },
    {
      "cell_type": "code",
      "source": [
        "filtered_df = df[df['school'] == 'german_idealism']\n",
        "sentences = filtered_df['gensim_tokenized'].tolist()\n",
        "model = Word2Vec(sentences=sentences, vector_size=100, window=5, min_count=1, workers=4, epochs=5)\n",
        "\n",
        "try:\n",
        "    print(\"Vector for 'truth':\", model.wv['truth'])\n",
        "except KeyError:\n",
        "    print(\"Word 'truth' not in vocabulary.\")\n"
      ],
      "metadata": {
        "colab": {
          "base_uri": "https://localhost:8080/"
        },
        "id": "ixMcpMSkGeGN",
        "outputId": "5b39e0f9-63ed-4923-842a-7258b220a44b"
      },
      "execution_count": 13,
      "outputs": [
        {
          "output_type": "stream",
          "name": "stdout",
          "text": [
            "Vector for 'truth': [ 0.41248012 -0.32792735 -1.2328794  -0.76642066  0.66087365 -0.8182695\n",
            "  0.2686788   0.50904745 -0.652382    0.32576618 -0.3206627  -0.2949651\n",
            "  0.19200894 -0.24763754 -0.7076568   0.85698825 -0.6465881  -0.7362189\n",
            "  0.5113      0.7372675  -0.7280635  -0.40597546  1.0773344  -0.14433108\n",
            "  0.24288857  0.0739779  -1.2048391  -0.55160695  1.3992271  -0.37766784\n",
            " -0.29508048 -0.86665744  0.884142    0.58649266 -1.1624668   0.69027543\n",
            " -0.8950641   0.5445475  -0.3889338  -1.2948022  -1.1575755  -0.6611835\n",
            "  0.13310158  1.0453349  -0.35123053  0.74680513 -0.05005893 -0.9281715\n",
            " -1.2950848  -0.4195261  -1.4021922  -0.17523263  0.2987698   0.90176696\n",
            "  0.32913074 -1.2405683  -0.09107657 -0.68210816 -0.53214675 -0.22066784\n",
            " -0.29519796 -0.2917006   0.7366747   0.20079139 -0.90577567 -0.44849786\n",
            " -0.3432528  -0.6473994  -2.186127    1.9479153   0.02365311 -0.4358733\n",
            "  0.7322243   1.7679244  -0.13945405  0.2086228   0.92506415 -0.278615\n",
            " -1.0608968  -0.27822196  1.1147151  -0.5445506  -0.7118058   0.71389276\n",
            " -0.14146085 -0.09450121  0.92632765 -0.12818941 -0.27609193  0.31771258\n",
            "  0.4824713   1.0939188  -0.5266948   0.9113449   0.5918175   0.26024067\n",
            " -0.80861104  0.85125804 -0.18957727 -0.44435108]\n"
          ]
        }
      ]
    },
    {
      "cell_type": "code",
      "source": [
        "def test_w2v_pos_neg(model_wv, pairs_to_try):\n",
        "    for positive, negative in pairs_to_try:\n",
        "        print(f\"Positive - {positive}\\tNegative - {negative}\")\n",
        "        # Try to find the top similar words based on positive and negative lists\n",
        "        try:\n",
        "            results = model_wv.most_similar(positive=positive, negative=negative, topn=5)\n",
        "            for word, similarity in results:\n",
        "                print(f\"- {word} ({similarity:.5f})\")\n",
        "        except KeyError as e:\n",
        "            print(f\"Word not in vocabulary: {e}\")\n",
        "        print()\n"
      ],
      "metadata": {
        "id": "lQgiyv2pG7mL"
      },
      "execution_count": 14,
      "outputs": []
    },
    {
      "cell_type": "code",
      "source": [
        "pairs_to_try = [\n",
        "    (['law', 'moral'], []),\n",
        "    (['self', 'consciousness'], []),\n",
        "    (['dialectic'], []),\n",
        "    (['logic'], []),\n",
        "]\n",
        "\n",
        "test_w2v_pos_neg(model.wv, pairs_to_try)\n"
      ],
      "metadata": {
        "colab": {
          "base_uri": "https://localhost:8080/"
        },
        "id": "7uU87GFvG19j",
        "outputId": "10846fe4-e048-469d-ceb8-30bfde8c0943"
      },
      "execution_count": 15,
      "outputs": [
        {
          "output_type": "stream",
          "name": "stdout",
          "text": [
            "Positive - ['law', 'moral']\tNegative - []\n",
            "- morality (0.74063)\n",
            "- rule (0.73735)\n",
            "- enforce (0.70143)\n",
            "- disposition (0.69539)\n",
            "- command (0.68192)\n",
            "\n",
            "Positive - ['self', 'consciousness']\tNegative - []\n",
            "- activity (0.79960)\n",
            "- negativity (0.78847)\n",
            "- externality (0.78707)\n",
            "- knowing (0.77583)\n",
            "- identity (0.77080)\n",
            "\n",
            "Positive - ['dialectic']\tNegative - []\n",
            "- antinomy (0.91496)\n",
            "- deduction (0.90426)\n",
            "- method (0.89665)\n",
            "- analytic (0.87712)\n",
            "- argument (0.87588)\n",
            "\n",
            "Positive - ['logic']\tNegative - []\n",
            "- method (0.84316)\n",
            "- dialectic (0.82924)\n",
            "- philosophy (0.82759)\n",
            "- deduction (0.81686)\n",
            "- definition (0.81050)\n",
            "\n"
          ]
        }
      ]
    },
    {
      "cell_type": "code",
      "source": [
        "cm = df[df['school'] == 'marxism']\n",
        "sentences = cm['gensim_tokenized'].tolist()\n",
        "model = Word2Vec(sentences=sentences, vector_size=100, window=5, min_count=1, workers=4, epochs=5)\n",
        "\n",
        "try:\n",
        "    print(\"Vector for 'truth':\", model.wv['truth'])\n",
        "except KeyError:\n",
        "    print(\"Word 'truth' not in vocabulary.\")\n"
      ],
      "metadata": {
        "colab": {
          "base_uri": "https://localhost:8080/"
        },
        "id": "YsgNtgMf_69B",
        "outputId": "785f14d2-0a0b-434b-f4d2-d3e69002b325"
      },
      "execution_count": 16,
      "outputs": [
        {
          "output_type": "stream",
          "name": "stdout",
          "text": [
            "Vector for 'truth': [-0.07881432  0.13375042 -0.0372619   0.16127095 -0.0778764  -0.1375468\n",
            "  0.05017238  0.14443086 -0.11678752 -0.15153816 -0.10674559 -0.22926211\n",
            "  0.1620775   0.05445489  0.04522372 -0.11919896  0.0467054  -0.23604254\n",
            " -0.01700647 -0.35021153  0.10379327  0.11157252  0.17064558 -0.02617225\n",
            "  0.005971    0.16195671 -0.14717232 -0.01545282 -0.11136559 -0.12053388\n",
            "  0.23203501  0.0974967  -0.04470291 -0.12886724  0.02750728  0.20215835\n",
            " -0.02770253 -0.02596173 -0.12002789 -0.16640155  0.01795369 -0.07500061\n",
            " -0.1136288   0.03510562  0.07991224 -0.21679884  0.00063395 -0.07022971\n",
            " -0.02181495  0.02953762  0.06365307 -0.18650347  0.07300065 -0.11799093\n",
            "  0.02080358 -0.02990293  0.10725902  0.01993402 -0.19623064  0.05722107\n",
            " -0.00625403 -0.0183304   0.09963446  0.07495437 -0.08454343  0.20572361\n",
            "  0.0176708   0.18002917 -0.15040356  0.11978106  0.02029219  0.07039782\n",
            "  0.06115887  0.03584757  0.11592674  0.04016582 -0.08495233 -0.06645028\n",
            " -0.08372062  0.02640727 -0.03293175  0.06225129 -0.09829546  0.18437748\n",
            " -0.0093538  -0.07841145  0.15843116  0.04332538  0.18110949  0.09022816\n",
            "  0.22716974 -0.14028175 -0.02325678  0.03376612  0.30089357  0.17798775\n",
            " -0.03962807 -0.09414666  0.07485548 -0.02148052]\n"
          ]
        }
      ]
    },
    {
      "cell_type": "code",
      "source": [
        "pairs_to_try=[(['material', 'conditions'], []),\n",
        "              (['worker'], ['owner']),\n",
        "              (['alienation', 'labor'], []),\n",
        "              (['capital'], [])]"
      ],
      "metadata": {
        "id": "6pLwCF-PIubd"
      },
      "execution_count": 17,
      "outputs": []
    },
    {
      "cell_type": "code",
      "source": [
        "test_w2v_pos_neg(model.wv, pairs_to_try)\n"
      ],
      "metadata": {
        "colab": {
          "base_uri": "https://localhost:8080/"
        },
        "id": "IkiqCeFjI3VW",
        "outputId": "e39b5ac6-93a3-4697-988d-1c00b052a323"
      },
      "execution_count": 18,
      "outputs": [
        {
          "output_type": "stream",
          "name": "stdout",
          "text": [
            "Positive - ['material', 'conditions']\tNegative - []\n",
            "- products (0.96930)\n",
            "- exploitation (0.96601)\n",
            "- wealth (0.96561)\n",
            "- relations (0.96349)\n",
            "- development (0.96327)\n",
            "\n",
            "Positive - ['worker']\tNegative - ['owner']\n",
            "- tired (0.63273)\n",
            "- laziness (0.62716)\n",
            "- alive (0.60992)\n",
            "- leeks (0.58288)\n",
            "- factoryowners (0.57093)\n",
            "\n",
            "Positive - ['alienation', 'labor']\tNegative - []\n",
            "- creation (0.98628)\n",
            "- constituent (0.98427)\n",
            "- domination (0.98413)\n",
            "- corresponding (0.98197)\n",
            "- formation (0.98119)\n",
            "\n",
            "Positive - ['capital']\tNegative - []\n",
            "- money (0.94660)\n",
            "- machinery (0.94044)\n",
            "- circulation (0.92668)\n",
            "- form (0.92307)\n",
            "- magnitude (0.92080)\n",
            "\n"
          ]
        }
      ]
    },
    {
      "cell_type": "code",
      "source": [
        "abai_gm = df[df['school'] == 'abai 45 words']\n",
        "sentences_abai = abai_gm['gensim_tokenized'].tolist()\n",
        "model = Word2Vec(sentences=sentences_abai, vector_size=100, window=5, min_count=1, workers=4, epochs=5)\n",
        "\n",
        "try:\n",
        "    print(\"Vector for 'truth':\", model.wv['truth'])\n",
        "except KeyError:\n",
        "    print(\"Word 'truth' not in vocabulary.\")\n"
      ],
      "metadata": {
        "colab": {
          "base_uri": "https://localhost:8080/"
        },
        "id": "3aLFtvmr5Bvi",
        "outputId": "0d45c576-1501-46cf-b587-32d1cdef2530"
      },
      "execution_count": 19,
      "outputs": [
        {
          "output_type": "stream",
          "name": "stdout",
          "text": [
            "Vector for 'truth': [-0.0524576   0.15063262  0.02915417 -0.0101514   0.00351209 -0.3313749\n",
            "  0.15221041  0.40694317 -0.19135599 -0.16766879 -0.02567996 -0.34685627\n",
            " -0.03398672  0.06707753  0.04245045 -0.11593723  0.13109803 -0.23369476\n",
            " -0.06648977 -0.34302974  0.14165607  0.00443504  0.17812294 -0.1750756\n",
            "  0.05645106  0.06495834 -0.13794693 -0.01217024 -0.07401634  0.0979293\n",
            "  0.20805147 -0.00382897  0.14985195 -0.29715124 -0.10357957  0.21102716\n",
            "  0.05220563 -0.09968553 -0.13242939 -0.3493301  -0.00141623 -0.17399631\n",
            " -0.03607991  0.0164497   0.1836365  -0.08815361 -0.00409216 -0.0409106\n",
            "  0.06733873  0.17005849  0.0979562  -0.22113076 -0.04919638 -0.0637387\n",
            " -0.14658998 -0.00188545  0.13615644  0.01685243 -0.1471895   0.13394645\n",
            " -0.02431436 -0.00572222  0.08818183  0.00256711 -0.20940517  0.24627523\n",
            " -0.01277159  0.22241488 -0.2767098   0.21757941 -0.06815164  0.21018565\n",
            "  0.21756077 -0.06449361  0.18312271  0.05673009  0.04471811 -0.01067484\n",
            " -0.1168351   0.0741297  -0.20632954 -0.01104743 -0.26508775  0.22594813\n",
            " -0.07773396 -0.02792236  0.14627059  0.14739533  0.13068241  0.06953398\n",
            "  0.20156449  0.0532715   0.05994875 -0.01024515  0.3724541   0.14418577\n",
            "  0.09132472 -0.08916     0.05092048 -0.05763492]\n"
          ]
        }
      ]
    },
    {
      "cell_type": "code",
      "source": [
        "import matplotlib.pyplot as plt\n",
        "import nltk\n",
        "from nltk import bigrams\n",
        "from nltk.probability import FreqDist\n",
        "from nltk.corpus import stopwords\n",
        "import random\n",
        "nltk.download('punkt')\n",
        "nltk.download('stopwords')"
      ],
      "metadata": {
        "colab": {
          "base_uri": "https://localhost:8080/"
        },
        "id": "y5zWeXbdU6ZA",
        "outputId": "205ae11b-378f-41e6-f16f-c2b57a77533f"
      },
      "execution_count": 20,
      "outputs": [
        {
          "output_type": "stream",
          "name": "stderr",
          "text": [
            "[nltk_data] Downloading package punkt to /root/nltk_data...\n",
            "[nltk_data]   Package punkt is already up-to-date!\n",
            "[nltk_data] Downloading package stopwords to /root/nltk_data...\n",
            "[nltk_data]   Package stopwords is already up-to-date!\n"
          ]
        },
        {
          "output_type": "execute_result",
          "data": {
            "text/plain": [
              "True"
            ]
          },
          "metadata": {},
          "execution_count": 20
        }
      ]
    },
    {
      "cell_type": "code",
      "source": [
        "from gensim.models import Word2Vec\n",
        "import numpy as np\n",
        "from sklearn.manifold import TSNE\n",
        "import plotly.express as px\n",
        "import pandas as pd\n",
        "\n",
        "# Assuming 'sentences' is already defined as a list of lists of tokenized words\n",
        "# If you're loading sentences here, ensure they are in the correct format\n",
        "\n",
        "# Load your Word2Vec model or train a new one\n",
        "model = Word2Vec(sentences=sentences, vector_size=100, window=5, min_count=1, workers=4, epochs=5)\n",
        "\n",
        "# Prepare word vectors for t-SNE\n",
        "words = list(model.wv.index_to_key)\n",
        "word_vectors = np.array([model.wv[word] for word in words])\n",
        "\n",
        "# Calculate frequency of each word\n",
        "word_freq = {word: 0 for word in words}\n",
        "for sentence in sentences:\n",
        "    for word in sentence:\n",
        "        if word in word_freq:\n",
        "            word_freq[word] += 1\n",
        "\n",
        "# Use t-SNE to reduce dimensions\n",
        "tsne = TSNE(n_components=2, perplexity=30, learning_rate=200, n_iter=1000, verbose=1)\n",
        "tsne_results = tsne.fit_transform(word_vectors)\n",
        "\n",
        "# Create a DataFrame for visualization\n",
        "df_tsne = pd.DataFrame(tsne_results, columns=['x', 'y'])\n",
        "df_tsne['word'] = words\n",
        "df_tsne['frequency'] = [word_freq[word] for word in words]\n",
        "\n",
        "# Example of filtering for visualization\n",
        "# Adjust the frequency threshold as needed for your dataset\n",
        "top_words = {word: freq for word, freq in word_freq.items() if freq > 100}  # Example threshold\n",
        "df_filtered = df_tsne[df_tsne['word'].isin(top_words.keys())]  # Ensure to filter using keys from the dictionary\n",
        "\n",
        "# Plot with Plotly Express using the filtered DataFrame\n",
        "fig = px.scatter(df_filtered, x='x', y='y', text='word',\n",
        "                 size=np.sqrt(df_filtered['frequency']),  # Square root to scale size more gently\n",
        "                 size_max=60, hover_name='word', title='Word Embedding Space using t-SNE')\n",
        "\n",
        "fig.update_traces(marker=dict(opacity=0.6))\n",
        "fig.update_layout(hovermode='closest')\n",
        "fig.show()\n"
      ],
      "metadata": {
        "colab": {
          "base_uri": "https://localhost:8080/",
          "height": 1000
        },
        "id": "8xpF6z4YsyON",
        "outputId": "8891d90c-23b8-483e-c9c4-f72229d6ca2c"
      },
      "execution_count": 21,
      "outputs": [
        {
          "output_type": "stream",
          "name": "stdout",
          "text": [
            "[t-SNE] Computing 91 nearest neighbors...\n",
            "[t-SNE] Indexed 18043 samples in 0.002s...\n",
            "[t-SNE] Computed neighbors for 18043 samples in 6.871s...\n",
            "[t-SNE] Computed conditional probabilities for sample 1000 / 18043\n",
            "[t-SNE] Computed conditional probabilities for sample 2000 / 18043\n",
            "[t-SNE] Computed conditional probabilities for sample 3000 / 18043\n",
            "[t-SNE] Computed conditional probabilities for sample 4000 / 18043\n",
            "[t-SNE] Computed conditional probabilities for sample 5000 / 18043\n",
            "[t-SNE] Computed conditional probabilities for sample 6000 / 18043\n",
            "[t-SNE] Computed conditional probabilities for sample 7000 / 18043\n",
            "[t-SNE] Computed conditional probabilities for sample 8000 / 18043\n",
            "[t-SNE] Computed conditional probabilities for sample 9000 / 18043\n",
            "[t-SNE] Computed conditional probabilities for sample 10000 / 18043\n",
            "[t-SNE] Computed conditional probabilities for sample 11000 / 18043\n",
            "[t-SNE] Computed conditional probabilities for sample 12000 / 18043\n",
            "[t-SNE] Computed conditional probabilities for sample 13000 / 18043\n",
            "[t-SNE] Computed conditional probabilities for sample 14000 / 18043\n",
            "[t-SNE] Computed conditional probabilities for sample 15000 / 18043\n",
            "[t-SNE] Computed conditional probabilities for sample 16000 / 18043\n",
            "[t-SNE] Computed conditional probabilities for sample 17000 / 18043\n",
            "[t-SNE] Computed conditional probabilities for sample 18000 / 18043\n",
            "[t-SNE] Computed conditional probabilities for sample 18043 / 18043\n",
            "[t-SNE] Mean sigma: 0.023117\n",
            "[t-SNE] KL divergence after 250 iterations with early exaggeration: 89.310982\n",
            "[t-SNE] KL divergence after 1000 iterations: 2.878372\n"
          ]
        },
        {
          "output_type": "display_data",
          "data": {
            "text/html": [
              "<html>\n",
              "<head><meta charset=\"utf-8\" /></head>\n",
              "<body>\n",
              "    <div>            <script src=\"https://cdnjs.cloudflare.com/ajax/libs/mathjax/2.7.5/MathJax.js?config=TeX-AMS-MML_SVG\"></script><script type=\"text/javascript\">if (window.MathJax && window.MathJax.Hub && window.MathJax.Hub.Config) {window.MathJax.Hub.Config({SVG: {font: \"STIX-Web\"}});}</script>                <script type=\"text/javascript\">window.PlotlyConfig = {MathJaxConfig: 'local'};</script>\n",
              "        <script charset=\"utf-8\" src=\"https://cdn.plot.ly/plotly-2.24.1.min.js\"></script>                <div id=\"6d748543-982d-4ff9-8878-a1d25d2bacb4\" class=\"plotly-graph-div\" style=\"height:525px; width:100%;\"></div>            <script type=\"text/javascript\">                                    window.PLOTLYENV=window.PLOTLYENV || {};                                    if (document.getElementById(\"6d748543-982d-4ff9-8878-a1d25d2bacb4\")) {                    Plotly.newPlot(                        \"6d748543-982d-4ff9-8878-a1d25d2bacb4\",                        [{\"hovertemplate\":\"\\u003cb\\u003e%{hovertext}\\u003c\\u002fb\\u003e\\u003cbr\\u003e\\u003cbr\\u003ex=%{x}\\u003cbr\\u003ey=%{y}\\u003cbr\\u003esize=%{marker.size}\\u003cbr\\u003eword=%{text}\\u003cextra\\u003e\\u003c\\u002fextra\\u003e\",\"hovertext\":[\"the\",\"of\",\"in\",\"and\",\"to\",\"is\",\"that\",\"it\",\"as\",\"by\",\"for\",\"labour\",\"this\",\"with\",\"on\",\"which\",\"be\",\"value\",\"from\",\"are\",\"not\",\"but\",\"or\",\"its\",\"their\",\"one\",\"we\",\"at\",\"all\",\"an\",\"his\",\"capital\",\"only\",\"they\",\"production\",\"was\",\"he\",\"have\",\"into\",\"more\",\"other\",\"has\",\"power\",\"so\",\"time\",\"work\",\"no\",\"working\",\"these\",\"same\",\"social\",\"will\",\"form\",\"means\",\"day\",\"than\",\"were\",\"capitalist\",\"money\",\"if\",\"who\",\"them\",\"therefore\",\"would\",\"there\",\"commodities\",\"such\",\"must\",\"hours\",\"state\",\"surplus\",\"can\",\"first\",\"commodity\",\"class\",\"out\",\"when\",\"between\",\"been\",\"may\",\"part\",\"process\",\"very\",\"under\",\"had\",\"what\",\"two\",\"industry\",\"now\",\"also\",\"up\",\"hand\",\"workers\",\"our\",\"most\",\"itself\",\"political\",\"every\",\"labourer\",\"number\",\"any\",\"factory\",\"those\",\"even\",\"chapter\",\"each\",\"use\",\"own\",\"without\",\"whole\",\"new\",\"great\",\"do\",\"then\",\"product\",\"being\",\"machinery\",\"society\",\"over\",\"necessary\",\"because\",\"does\",\"wages\",\"against\",\"price\",\"fact\",\"economic\",\"labourers\",\"conditions\",\"trade\",\"struggle\",\"about\",\"given\",\"some\",\"children\",\"different\",\"development\",\"system\",\"movement\",\"people\",\"much\",\"general\",\"bourgeois\",\"years\",\"place\",\"before\",\"thus\",\"another\",\"order\",\"less\",\"men\",\"many\",\"during\",\"here\",\"made\",\"population\",\"upon\",\"him\",\"increase\",\"us\",\"andc\",\"quantity\",\"employed\",\"labor\",\"man\",\"themselves\",\"after\",\"however\",\"machine\",\"among\",\"material\",\"how\",\"exchange\",\"modern\",\"where\",\"case\",\"england\",\"certain\",\"capitalism\",\"small\",\"way\",\"country\",\"english\",\"old\",\"division\",\"law\",\"gold\",\"world\",\"becomes\",\"cannot\",\"large\",\"like\",\"proletariat\",\"become\",\"cotton\",\"circulation\",\"period\",\"agricultural\",\"far\",\"since\",\"total\",\"free\",\"say\",\"while\",\"life\",\"forms\",\"both\",\"already\",\"question\",\"individual\",\"change\",\"you\",\"should\",\"per\",\"could\",\"greater\",\"persons\",\"still\",\"take\",\"nature\",\"german\",\"average\",\"de\",\"present\",\"himself\",\"course\",\"revolutionary\",\"land\",\"last\",\"character\",\"latter\",\"point\",\"manufacture\",\"democracy\",\"yet\",\"values\",\"hands\",\"half\",\"th\",\"constant\",\"property\",\"market\",\"act\",\"various\",\"wage\",\"relation\",\"three\",\"see\",\"again\",\"shall\",\"industrial\",\"revolution\",\"make\",\"nothing\",\"well\",\"just\",\"mass\",\"organization\",\"year\",\"above\",\"countries\",\"bourgeoisie\",\"accumulation\",\"etc\",\"result\",\"long\",\"called\",\"possible\",\"produced\",\"always\",\"human\",\"linen\",\"proportion\",\"rise\",\"special\",\"says\",\"single\",\"example\",\"russian\",\"amount\",\"democratic\",\"following\",\"hence\",\"independent\",\"scale\",\"classes\",\"mode\",\"whose\",\"mere\",\"century\",\"instead\",\"increased\",\"kind\",\"government\",\"agriculture\",\"productive\",\"others\",\"produce\",\"simple\",\"employment\",\"days\",\"imperialism\",\"history\",\"common\",\"relative\",\"products\",\"too\",\"extent\",\"times\",\"things\",\"economy\",\"making\",\"party\",\"end\",\"although\",\"masses\",\"wealth\",\"through\",\"twenty\",\"natural\",\"away\",\"little\",\"few\",\"hour\",\"matter\",\"rate\",\"banks\",\"existence\",\"germany\",\"according\",\"soon\",\"sum\",\"consequently\",\"further\",\"whether\",\"either\",\"factories\",\"self\",\"alone\",\"never\",\"mr\",\"particular\",\"together\",\"equivalent\",\"let\",\"developed\",\"find\",\"merely\",\"russia\",\"basis\",\"public\",\"exploitation\",\"variable\",\"condition\",\"raw\",\"equal\",\"poor\",\"makes\",\"within\",\"side\",\"did\",\"relations\",\"five\",\"prices\",\"once\",\"london\",\"women\",\"la\",\"generally\",\"yarn\",\"degree\",\"workmen\",\"cent\",\"young\",\"demand\",\"force\",\"real\",\"operation\",\"constantly\",\"found\",\"give\",\"right\",\"parts\",\"daily\",\"capitalists\",\"down\",\"taken\",\"circumstances\",\"important\",\"states\",\"carried\",\"difference\",\"subsistence\",\"magnitude\",\"words\",\"machines\",\"takes\",\"co\",\"portion\",\"former\",\"regard\",\"consumption\",\"fall\",\"paid\",\"article\",\"second\",\"national\",\"instruments\",\"laws\",\"done\",\"longer\",\"peasant\",\"monopoly\",\"advanced\",\"put\",\"silver\",\"view\",\"four\",\"thing\",\"shillings\",\"works\",\"workman\",\"quite\",\"used\",\"week\",\"ten\",\"cases\",\"word\",\"private\",\"owner\",\"definite\",\"expression\",\"set\",\"consequence\",\"good\",\"appears\",\"manufacturers\",\"democrats\",\"subject\",\"activity\",\"productiveness\",\"engels\",\"report\",\"family\",\"instance\",\"profit\",\"functions\",\"increasing\",\"go\",\"socialist\",\"coat\",\"required\",\"get\",\"forces\",\"seen\",\"france\",\"economists\",\"said\",\"direct\",\"able\",\"almost\",\"branches\",\"least\",\"rent\",\"complete\",\"contrary\",\"often\",\"directly\",\"french\",\"majority\",\"expressed\",\"age\",\"increases\",\"original\",\"dyelo\",\"come\",\"socialism\",\"necessity\",\"war\",\"changes\",\"competition\",\"interests\",\"night\",\"think\",\"industries\",\"rabocheye\",\"created\",\"six\",\"absolute\",\"local\",\"especially\",\"methods\",\"historical\",\"why\",\"produces\",\"supply\",\"union\",\"effect\",\"international\",\"having\",\"spinning\",\"house\",\"des\",\"sale\",\"nor\",\"moment\",\"piece\",\"might\",\"petty\",\"manufacturing\",\"brought\",\"iron\",\"beginning\",\"turn\",\"determined\",\"bank\",\"sense\"],\"legendgroup\":\"\",\"marker\":{\"color\":\"#636efa\",\"size\":[204.28166829160173,167.6186147180557,108.29127388668027,106.46126055988628,98.85342685005918,82.15838362577492,72.8285658241325,65.36818798161687,63.953107821277925,62.5859409132754,62.473994589749104,55.812185049503306,55.65968020030299,52.05766033928148,52.04805471869242,51.54609587543949,50.02999100539596,48.73397172404482,47.89572005931219,47.885279575251516,47.738873049120045,46.04345773288535,44.10215414239989,43.30127018922193,42.76680956068619,41.8568990729127,41.291645644125154,41.2674205639267,39.67366884975475,39.44616584663204,38.80721582386451,38.262252939417984,38.02630668366309,37.8021163428716,37.48332962798263,36.959437225152655,36.742346141747674,36.742346141747674,36.6333181680284,36.235341863986875,35.2845575287547,35.270384177096794,32.449961479175904,32.109188716004645,31.68595903550972,31.432467291003423,31.080540535840107,30.479501308256342,30.28200785945344,30.083217912982647,30.0,29.58039891549808,29.58039891549808,29.5296461204668,29.257477676655586,28.930952282978865,28.809720581775867,28.809720581775867,28.6705423736629,28.5657137141714,28.53068523537421,27.784887978899608,27.0,26.68332812825267,26.664583251946766,26.362852652928137,26.267851073127396,26.115129714401192,25.942243542145693,25.84569596664017,25.787593916455254,25.709920264364882,25.41653005427767,25.41653005427767,24.979991993593593,24.657656011875904,24.596747752497688,24.596747752497688,24.55605831561735,24.166091947189145,24.08318915758459,23.93741840717165,23.93741840717165,23.811761799581316,23.706539182259394,23.62202362203543,23.49468024894146,23.49468024894146,23.40939982143925,23.388031127053,23.388031127053,23.302360395462088,23.280893453645632,23.194827009486403,23.08679276123039,23.065125189341593,23.065125189341593,22.693611435820433,22.516660498395403,22.20360331117452,22.181073012818835,22.06807649071391,22.0,21.95449840010015,21.748563170931547,21.72556098240043,21.72556098240043,21.6794833886788,21.61018278497431,21.540659228538015,21.470910553583888,21.42428528562855,21.18962010041709,21.095023109728988,21.047565179849187,20.92844953645635,20.904544960366874,20.83266665599966,20.808652046684813,20.639767440550294,20.566963801203133,20.54263858417414,20.46948949045872,20.248456731316587,20.074859899884732,20.0,19.974984355438178,19.924858845171276,19.82422760159901,19.79898987322333,19.77371993328519,19.544820285692065,19.519221295943137,19.467922333931785,19.467922333931785,19.4164878389476,19.364916731037084,19.209372712298546,19.078784028338912,18.973665961010276,18.973665961010276,18.973665961010276,18.788294228055936,18.788294228055936,18.708286933869708,18.65475810617763,18.601075237738275,18.601075237738275,18.601075237738275,18.520259177452136,18.466185312619388,18.384776310850235,18.33030277982336,18.33030277982336,18.33030277982336,18.2208671582886,18.2208671582886,18.193405398660254,18.05547008526779,18.027756377319946,17.97220075561143,17.97220075561143,17.97220075561143,17.88854381999832,17.86057109949175,17.804493814764857,17.72004514666935,17.60681686165901,17.549928774784245,17.52141546793523,17.46424919657298,17.46424919657298,17.320508075688775,17.204650534085253,17.11724276862369,16.941074346097416,16.911534525287763,16.76305461424021,16.703293088490067,16.703293088490067,16.703293088490067,16.61324772583615,16.492422502470642,16.492422502470642,16.46207763315433,16.431676725154983,16.401219466856727,16.3707055437449,16.3707055437449,16.3707055437449,16.30950643030009,16.30950643030009,16.278820596099706,16.186414056238647,16.186414056238647,16.15549442140351,16.15549442140351,16.06237840420901,16.06237840420901,16.06237840420901,16.0312195418814,16.0,16.0,15.968719422671311,15.937377450509228,15.937377450509228,15.937377450509228,15.905973720586866,15.905973720586866,15.811388300841896,15.7797338380595,15.748015748023622,15.716233645501712,15.716233645501712,15.716233645501712,15.684387141358123,15.588457268119896,15.588457268119896,15.588457268119896,15.556349186104045,15.556349186104045,15.556349186104045,15.556349186104045,15.491933384829668,15.459624833740307,15.459624833740307,15.459624833740307,15.427248620541512,15.427248620541512,15.394804318340652,15.394804318340652,15.362291495737216,15.362291495737216,15.329709716755891,15.297058540778355,15.297058540778355,15.231546211727817,15.231546211727817,15.231546211727817,15.165750888103101,15.132745950421556,15.066519173319364,15.033296378372908,15.0,15.0,15.0,15.0,14.933184523068078,14.866068747318506,14.832396974191326,14.7648230602334,14.696938456699069,14.66287829861518,14.66287829861518,14.66287829861518,14.560219778561036,14.560219778561036,14.52583904633395,14.45683229480096,14.422205101855956,14.352700094407323,14.317821063276353,14.317821063276353,14.2828568570857,14.247806848775006,14.247806848775006,14.212670403551895,14.212670403551895,14.142135623730951,14.142135623730951,14.142135623730951,14.106735979665885,14.106735979665885,14.106735979665885,14.106735979665885,14.071247279470288,14.035668847618199,13.96424004376894,13.92838827718412,13.856406460551018,13.820274961085254,13.784048752090222,13.784048752090222,13.74772708486752,13.74772708486752,13.638181696985855,13.638181696985855,13.601470508735444,13.564659966250536,13.564659966250536,13.564659966250536,13.564659966250536,13.564659966250536,13.527749258468683,13.527749258468683,13.490737563232042,13.490737563232042,13.490737563232042,13.45362404707371,13.45362404707371,13.45362404707371,13.45362404707371,13.416407864998739,13.416407864998739,13.379088160259652,13.379088160259652,13.341664064126334,13.30413469565007,13.2664991614216,13.2664991614216,13.228756555322953,13.19090595827292,13.19090595827292,13.152946437965905,13.114877048604,13.038404810405298,13.0,13.0,13.0,12.96148139681572,12.96148139681572,12.96148139681572,12.96148139681572,12.922847983320086,12.884098726725126,12.884098726725126,12.84523257866513,12.84523257866513,12.806248474865697,12.767145334803704,12.727922061357855,12.727922061357855,12.727922061357855,12.68857754044952,12.609520212918492,12.609520212918492,12.609520212918492,12.609520212918492,12.569805089976535,12.569805089976535,12.529964086141668,12.529964086141668,12.529964086141668,12.489995996796797,12.449899597988733,12.449899597988733,12.409673645990857,12.409673645990857,12.328828005937952,12.328828005937952,12.288205727444508,12.288205727444508,12.24744871391589,12.24744871391589,12.24744871391589,12.24744871391589,12.24744871391589,12.206555615733702,12.206555615733702,12.165525060596439,12.165525060596439,12.165525060596439,12.12435565298214,12.12435565298214,12.12435565298214,12.12435565298214,12.12435565298214,12.083045973594572,12.0,11.958260743101398,11.958260743101398,11.916375287812984,11.916375287812984,11.874342087037917,11.874342087037917,11.874342087037917,11.874342087037917,11.874342087037917,11.832159566199232,11.832159566199232,11.789826122551595,11.789826122551595,11.789826122551595,11.789826122551595,11.789826122551595,11.789826122551595,11.74734012447073,11.74734012447073,11.74734012447073,11.704699910719626,11.704699910719626,11.661903789690601,11.661903789690601,11.661903789690601,11.61895003862225,11.61895003862225,11.61895003862225,11.61895003862225,11.61895003862225,11.61895003862225,11.575836902790225,11.575836902790225,11.532562594670797,11.532562594670797,11.532562594670797,11.489125293076057,11.489125293076057,11.489125293076057,11.489125293076057,11.489125293076057,11.445523142259598,11.445523142259598,11.40175425099138,11.40175425099138,11.40175425099138,11.40175425099138,11.40175425099138,11.40175425099138,11.40175425099138,11.357816691600547,11.357816691600547,11.357816691600547,11.357816691600547,11.357816691600547,11.357816691600547,11.313708498984761,11.313708498984761,11.313708498984761,11.269427669584644,11.269427669584644,11.269427669584644,11.224972160321824,11.224972160321824,11.224972160321824,11.224972160321824,11.180339887498949,11.135528725660043,11.135528725660043,11.135528725660043,11.135528725660043,11.090536506409418,11.090536506409418,11.090536506409418,11.090536506409418,11.045361017187261,11.045361017187261,11.045361017187261,11.0,11.0,10.954451150103322,10.954451150103322,10.954451150103322,10.954451150103322,10.908712114635714,10.908712114635714,10.908712114635714,10.908712114635714,10.908712114635714,10.908712114635714,10.862780491200215,10.862780491200215,10.862780491200215,10.862780491200215,10.862780491200215,10.816653826391969,10.770329614269007,10.770329614269007,10.770329614269007,10.770329614269007,10.723805294763608,10.723805294763608,10.723805294763608,10.677078252031311,10.677078252031311,10.677078252031311,10.63014581273465,10.63014581273465,10.63014581273465,10.583005244258363,10.583005244258363,10.583005244258363,10.535653752852738,10.535653752852738,10.535653752852738,10.535653752852738,10.535653752852738,10.488088481701515,10.44030650891055,10.44030650891055,10.44030650891055,10.44030650891055,10.44030650891055,10.392304845413264,10.392304845413264,10.392304845413264,10.392304845413264,10.344080432788601,10.295630140987,10.295630140987,10.295630140987,10.295630140987,10.246950765959598,10.246950765959598,10.198039027185569,10.198039027185569,10.198039027185569,10.198039027185569,10.14889156509222,10.14889156509222,10.14889156509222,10.099504938362077,10.099504938362077,10.099504938362077,10.04987562112089,10.04987562112089,10.04987562112089,10.04987562112089],\"sizemode\":\"area\",\"sizeref\":0.05674490785877826,\"symbol\":\"circle\",\"opacity\":0.6},\"mode\":\"markers+text\",\"name\":\"\",\"orientation\":\"v\",\"showlegend\":false,\"text\":[\"the\",\"of\",\"in\",\"and\",\"to\",\"is\",\"that\",\"it\",\"as\",\"by\",\"for\",\"labour\",\"this\",\"with\",\"on\",\"which\",\"be\",\"value\",\"from\",\"are\",\"not\",\"but\",\"or\",\"its\",\"their\",\"one\",\"we\",\"at\",\"all\",\"an\",\"his\",\"capital\",\"only\",\"they\",\"production\",\"was\",\"he\",\"have\",\"into\",\"more\",\"other\",\"has\",\"power\",\"so\",\"time\",\"work\",\"no\",\"working\",\"these\",\"same\",\"social\",\"will\",\"form\",\"means\",\"day\",\"than\",\"were\",\"capitalist\",\"money\",\"if\",\"who\",\"them\",\"therefore\",\"would\",\"there\",\"commodities\",\"such\",\"must\",\"hours\",\"state\",\"surplus\",\"can\",\"first\",\"commodity\",\"class\",\"out\",\"when\",\"between\",\"been\",\"may\",\"part\",\"process\",\"very\",\"under\",\"had\",\"what\",\"two\",\"industry\",\"now\",\"also\",\"up\",\"hand\",\"workers\",\"our\",\"most\",\"itself\",\"political\",\"every\",\"labourer\",\"number\",\"any\",\"factory\",\"those\",\"even\",\"chapter\",\"each\",\"use\",\"own\",\"without\",\"whole\",\"new\",\"great\",\"do\",\"then\",\"product\",\"being\",\"machinery\",\"society\",\"over\",\"necessary\",\"because\",\"does\",\"wages\",\"against\",\"price\",\"fact\",\"economic\",\"labourers\",\"conditions\",\"trade\",\"struggle\",\"about\",\"given\",\"some\",\"children\",\"different\",\"development\",\"system\",\"movement\",\"people\",\"much\",\"general\",\"bourgeois\",\"years\",\"place\",\"before\",\"thus\",\"another\",\"order\",\"less\",\"men\",\"many\",\"during\",\"here\",\"made\",\"population\",\"upon\",\"him\",\"increase\",\"us\",\"andc\",\"quantity\",\"employed\",\"labor\",\"man\",\"themselves\",\"after\",\"however\",\"machine\",\"among\",\"material\",\"how\",\"exchange\",\"modern\",\"where\",\"case\",\"england\",\"certain\",\"capitalism\",\"small\",\"way\",\"country\",\"english\",\"old\",\"division\",\"law\",\"gold\",\"world\",\"becomes\",\"cannot\",\"large\",\"like\",\"proletariat\",\"become\",\"cotton\",\"circulation\",\"period\",\"agricultural\",\"far\",\"since\",\"total\",\"free\",\"say\",\"while\",\"life\",\"forms\",\"both\",\"already\",\"question\",\"individual\",\"change\",\"you\",\"should\",\"per\",\"could\",\"greater\",\"persons\",\"still\",\"take\",\"nature\",\"german\",\"average\",\"de\",\"present\",\"himself\",\"course\",\"revolutionary\",\"land\",\"last\",\"character\",\"latter\",\"point\",\"manufacture\",\"democracy\",\"yet\",\"values\",\"hands\",\"half\",\"th\",\"constant\",\"property\",\"market\",\"act\",\"various\",\"wage\",\"relation\",\"three\",\"see\",\"again\",\"shall\",\"industrial\",\"revolution\",\"make\",\"nothing\",\"well\",\"just\",\"mass\",\"organization\",\"year\",\"above\",\"countries\",\"bourgeoisie\",\"accumulation\",\"etc\",\"result\",\"long\",\"called\",\"possible\",\"produced\",\"always\",\"human\",\"linen\",\"proportion\",\"rise\",\"special\",\"says\",\"single\",\"example\",\"russian\",\"amount\",\"democratic\",\"following\",\"hence\",\"independent\",\"scale\",\"classes\",\"mode\",\"whose\",\"mere\",\"century\",\"instead\",\"increased\",\"kind\",\"government\",\"agriculture\",\"productive\",\"others\",\"produce\",\"simple\",\"employment\",\"days\",\"imperialism\",\"history\",\"common\",\"relative\",\"products\",\"too\",\"extent\",\"times\",\"things\",\"economy\",\"making\",\"party\",\"end\",\"although\",\"masses\",\"wealth\",\"through\",\"twenty\",\"natural\",\"away\",\"little\",\"few\",\"hour\",\"matter\",\"rate\",\"banks\",\"existence\",\"germany\",\"according\",\"soon\",\"sum\",\"consequently\",\"further\",\"whether\",\"either\",\"factories\",\"self\",\"alone\",\"never\",\"mr\",\"particular\",\"together\",\"equivalent\",\"let\",\"developed\",\"find\",\"merely\",\"russia\",\"basis\",\"public\",\"exploitation\",\"variable\",\"condition\",\"raw\",\"equal\",\"poor\",\"makes\",\"within\",\"side\",\"did\",\"relations\",\"five\",\"prices\",\"once\",\"london\",\"women\",\"la\",\"generally\",\"yarn\",\"degree\",\"workmen\",\"cent\",\"young\",\"demand\",\"force\",\"real\",\"operation\",\"constantly\",\"found\",\"give\",\"right\",\"parts\",\"daily\",\"capitalists\",\"down\",\"taken\",\"circumstances\",\"important\",\"states\",\"carried\",\"difference\",\"subsistence\",\"magnitude\",\"words\",\"machines\",\"takes\",\"co\",\"portion\",\"former\",\"regard\",\"consumption\",\"fall\",\"paid\",\"article\",\"second\",\"national\",\"instruments\",\"laws\",\"done\",\"longer\",\"peasant\",\"monopoly\",\"advanced\",\"put\",\"silver\",\"view\",\"four\",\"thing\",\"shillings\",\"works\",\"workman\",\"quite\",\"used\",\"week\",\"ten\",\"cases\",\"word\",\"private\",\"owner\",\"definite\",\"expression\",\"set\",\"consequence\",\"good\",\"appears\",\"manufacturers\",\"democrats\",\"subject\",\"activity\",\"productiveness\",\"engels\",\"report\",\"family\",\"instance\",\"profit\",\"functions\",\"increasing\",\"go\",\"socialist\",\"coat\",\"required\",\"get\",\"forces\",\"seen\",\"france\",\"economists\",\"said\",\"direct\",\"able\",\"almost\",\"branches\",\"least\",\"rent\",\"complete\",\"contrary\",\"often\",\"directly\",\"french\",\"majority\",\"expressed\",\"age\",\"increases\",\"original\",\"dyelo\",\"come\",\"socialism\",\"necessity\",\"war\",\"changes\",\"competition\",\"interests\",\"night\",\"think\",\"industries\",\"rabocheye\",\"created\",\"six\",\"absolute\",\"local\",\"especially\",\"methods\",\"historical\",\"why\",\"produces\",\"supply\",\"union\",\"effect\",\"international\",\"having\",\"spinning\",\"house\",\"des\",\"sale\",\"nor\",\"moment\",\"piece\",\"might\",\"petty\",\"manufacturing\",\"brought\",\"iron\",\"beginning\",\"turn\",\"determined\",\"bank\",\"sense\"],\"x\":[12.357300758361816,13.454643249511719,15.407180786132812,20.073945999145508,30.127933502197266,24.050655364990234,25.70859146118164,25.964996337890625,27.897531509399414,14.579788208007812,14.718997955322266,8.817049980163574,25.526453018188477,14.94605541229248,16.428007125854492,12.694899559020996,26.271818161010742,8.847558975219727,15.386831283569336,21.590862274169922,26.01607894897461,24.144086837768555,11.286935806274414,11.239461898803711,22.438695907592773,17.19105339050293,27.70454216003418,16.33350944519043,17.842010498046875,12.170129776000977,22.624130249023438,9.102511405944824,24.07697868347168,27.733016967773438,10.58326244354248,28.60134506225586,26.145280838012695,28.933483123779297,14.311673164367676,10.944134712219238,16.920745849609375,29.005292892456055,8.906588554382324,27.846160888671875,15.319272994995117,19.32485008239746,26.102619171142578,13.047844886779785,20.533239364624023,15.496804237365723,11.029950141906738,30.35660171508789,9.609537124633789,9.995736122131348,13.068321228027344,10.957520484924316,21.57135772705078,10.33403205871582,9.30016803741455,26.465600967407227,20.260692596435547,22.74869728088379,10.095587730407715,30.34126853942871,25.914518356323242,10.279726028442383,27.980403900146484,30.356271743774414,13.142916679382324,9.651390075683594,8.960919380187988,30.36143684387207,15.617891311645508,9.147500991821289,12.990716934204102,23.933462142944336,26.087764739990234,13.744424819946289,27.079532623291016,30.34470558166504,10.188754081726074,10.270147323608398,25.53395652770996,15.595645904541016,28.99441909790039,26.02940559387207,19.705686569213867,13.532639503479004,26.29647445678711,24.108112335205078,24.642715454101562,16.880380630493164,19.61229705810547,24.82506561279297,15.94936466217041,11.198969841003418,13.969379425048828,15.708770751953125,9.570572853088379,12.844244003295898,17.4300594329834,16.541183471679688,20.52796173095703,24.831693649291992,19.83299446105957,17.167306900024414,9.4752836227417,13.39675235748291,14.813987731933594,9.87889575958252,12.7766695022583,19.123090744018555,28.259963989257812,25.74690055847168,9.211609840393066,11.212955474853516,11.441986083984375,11.957307815551758,15.888099670410156,9.237927436828613,25.790315628051758,24.143770217895508,11.149489402770996,15.087554931640625,9.303488731384277,24.712993621826172,13.296560287475586,13.016766548156738,11.744712829589844,16.35810661315918,10.158636093139648,23.144126892089844,10.099173545837402,21.427104949951172,19.869577407836914,17.37472915649414,10.664316177368164,13.556877136230469,9.963033676147461,19.555173873901367,27.747093200683594,12.159178733825684,15.019575119018555,19.703569412231445,24.496992111206055,25.83013153076172,16.487165451049805,17.39543342590332,23.341384887695312,10.9674072265625,19.576711654663086,21.7224178314209,16.514280319213867,26.124183654785156,25.735830307006836,10.164251327514648,14.922473907470703,22.972047805786133,9.728861808776855,27.644664764404297,22.83979606628418,9.216917991638184,18.3465518951416,10.88921070098877,18.079204559326172,22.521982192993164,23.33981704711914,26.107013702392578,10.190699577331543,15.233394622802734,11.398431777954102,26.35630226135254,10.550670623779297,13.565810203552246,23.343730926513672,24.570545196533203,20.48051643371582,15.499723434448242,12.018059730529785,17.071971893310547,24.503435134887695,18.07491111755371,19.9090576171875,15.983725547790527,12.417557716369629,15.646319389343262,11.447284698486328,13.87816047668457,11.104044914245605,30.07997703552246,14.302690505981445,23.202959060668945,9.860233306884766,25.82025909423828,17.726348876953125,11.46902084350586,15.593062400817871,15.01738166809082,27.828781127929688,25.2299861907959,12.555569648742676,15.018022537231445,26.578556060791016,15.987504959106445,13.531665802001953,14.249106407165527,18.10533905029297,27.176618576049805,24.65115737915039,13.372453689575195,11.211113929748535,27.65801429748535,30.000701904296875,18.90393829345703,29.88096046447754,11.121108055114746,20.05994987487793,26.013946533203125,27.96187973022461,13.265491485595703,16.06087875366211,12.729490280151367,22.929691314697266,15.707500457763672,22.681520462036133,24.559463500976562,16.158592224121094,16.898344039916992,18.24026107788086,12.2623291015625,10.424741744995117,24.557634353637695,12.37924861907959,12.664881706237793,26.155851364135742,10.921797752380371,17.75592041015625,17.86980628967285,19.753599166870117,10.359954833984375,12.932291030883789,14.526862144470215,16.217763900756836,14.637290000915527,12.628565788269043,11.669729232788086,19.608341217041016,28.750417709350586,25.117816925048828,29.65613555908203,14.52483081817627,15.881924629211426,27.50252342224121,26.16061782836914,27.958831787109375,27.92081069946289,10.206195831298828,16.418025970458984,18.185535430908203,24.554975509643555,17.792034149169922,15.628255844116211,11.744735717773438,22.79024314880371,15.935486793518066,27.671920776367188,28.029888153076172,25.864904403686523,11.11211109161377,25.46112823486328,13.785940170288086,11.077713966369629,11.259308815002441,11.222712516784668,14.923744201660156,24.355348587036133,17.12881851196289,19.143442153930664,15.787281036376953,11.133491516113281,15.310276985168457,23.900903701782227,16.15435028076172,14.238065719604492,14.206100463867188,17.26038360595703,11.323087692260742,16.086078643798828,13.465106964111328,19.736309051513672,17.149063110351562,11.227766990661621,16.94809913635254,17.23032569885254,15.308297157287598,12.048758506774902,21.342493057250977,11.264724731445312,15.962530136108398,17.655887603759766,18.18966293334961,16.60018539428711,16.02252960205078,16.7769832611084,10.210620880126953,12.644119262695312,27.229084014892578,16.756256103515625,20.634408950805664,26.390905380249023,15.152271270751953,16.505552291870117,16.858314514160156,15.736977577209473,25.22399139404297,17.42849349975586,13.078653335571289,15.493795394897461,19.809412002563477,14.977954864501953,25.773296356201172,27.332910537719727,23.546051025390625,17.626501083374023,25.34929847717285,11.13314437866211,17.885522842407227,12.88607120513916,21.128326416015625,26.30875015258789,27.979351043701172,11.298460006713867,11.555806159973145,26.52419090270996,25.338375091552734,18.251630783081055,20.01664161682129,16.160673141479492,17.324533462524414,27.22662353515625,23.92756462097168,14.008169174194336,20.428823471069336,11.125030517578125,28.835405349731445,21.297969818115234,28.65933609008789,25.15961265563965,19.655088424682617,14.45241641998291,18.112146377563477,12.884821891784668,11.059057235717773,14.787622451782227,13.391487121582031,11.426458358764648,23.219966888427734,15.84911823272705,15.28575325012207,17.143980026245117,28.656457901000977,14.584710121154785,19.782581329345703,17.01168441772461,21.04852294921875,20.202857971191406,20.08513832092285,22.959413528442383,25.889211654663086,11.287519454956055,12.863506317138672,17.676246643066406,18.5803279876709,20.12594223022461,17.001802444458008,18.277557373046875,16.731700897216797,14.480040550231934,16.74428939819336,29.026996612548828,27.405105590820312,26.51487159729004,17.5131778717041,12.454782485961914,20.515321731567383,24.150251388549805,29.269601821899414,26.53391456604004,20.478551864624023,21.089689254760742,19.602745056152344,18.339017868041992,13.100372314453125,10.500303268432617,17.437938690185547,17.407373428344727,16.00252914428711,14.763785362243652,15.459659576416016,17.648536682128906,20.067506790161133,13.11412239074707,19.227481842041016,19.547080993652344,15.580464363098145,18.591278076171875,15.646114349365234,12.68100357055664,15.807446479797363,29.22051429748535,27.83344841003418,19.65045738220215,15.66996955871582,14.103459358215332,26.659128189086914,18.71169090270996,21.01361846923828,19.746822357177734,30.511411666870117,19.37825584411621,20.584375381469727,17.036291122436523,26.584266662597656,25.861513137817383,18.1950626373291,19.69434928894043,26.45718765258789,20.436635971069336,15.440753936767578,17.15509796142578,14.08134651184082,14.028050422668457,25.39666175842285,17.068328857421875,26.460363388061523,15.958993911743164,22.68012046813965,21.846216201782227,21.11086082458496,17.306781768798828,12.68011474609375,24.403520584106445,22.57403564453125,18.6848087310791,19.770870208740234,19.466867446899414,15.980310440063477,14.004005432128906,28.153564453125,21.348468780517578,17.815282821655273,18.820297241210938,28.1619930267334,17.3603572845459,29.308408737182617,21.295578002929688,24.438579559326172,29.002002716064453,17.428117752075195,29.04172706604004,24.051239013671875,19.141813278198242,21.053878784179688,17.750198364257812,17.527856826782227,19.603782653808594,23.990942001342773,16.32439613342285,22.14238929748535,18.502161026000977,17.831350326538086,22.067384719848633,12.468610763549805,16.33361053466797,27.478046417236328,28.27620506286621,26.344074249267578,20.058828353881836,22.188003540039062,18.545087814331055,16.007047653198242,18.63050079345703,18.450836181640625,28.694738388061523,20.660316467285156,27.55728530883789,17.761301040649414,19.709733963012695,12.498167991638184,24.03196144104004,21.819387435913086,20.582019805908203,16.4751033782959,28.893644332885742,15.876501083374023,17.427968978881836,19.773597717285156,28.863977432250977,21.3635311126709,23.72289276123047,19.639026641845703,24.205297470092773,22.995037078857422,16.567617416381836,24.900114059448242,27.258441925048828,18.99224281311035,28.94329261779785,21.328123092651367,21.372955322265625,29.95783805847168,23.655649185180664,24.187536239624023,21.057308197021484,17.820886611938477,21.937862396240234,20.521459579467773],\"xaxis\":\"x\",\"y\":[40.86960983276367,43.04977798461914,44.68744659423828,42.97215270996094,49.580299377441406,52.97476577758789,51.7885856628418,52.09749984741211,52.533042907714844,44.970458984375,45.574039459228516,41.225337982177734,52.04265213012695,44.47726058959961,45.35194396972656,41.57494354248047,52.323280334472656,41.20319747924805,44.85365295410156,48.57651901245117,51.79275894165039,52.43674850463867,44.99814987182617,41.38459014892578,49.11080551147461,46.47401428222656,50.484352111816406,48.09500503540039,44.15509033203125,41.65456771850586,49.86198425292969,41.12852096557617,52.439842224121094,50.452945709228516,39.562591552734375,49.6198616027832,52.1811637878418,49.2630500793457,44.20444107055664,45.84053421020508,45.94632339477539,49.36501693725586,41.78754425048828,52.47282791137695,48.15232467651367,49.21623229980469,49.504032135009766,46.99492263793945,48.74058151245117,48.142234802246094,39.33110046386719,50.00089645385742,40.88556671142578,39.78111267089844,47.0733642578125,45.86796951293945,48.560752868652344,39.583370208740234,41.47146224975586,50.941627502441406,49.05579376220703,49.35895538330078,42.547149658203125,49.99509048461914,51.33540725708008,40.58680725097656,52.14059829711914,50.00104522705078,47.108604431152344,42.768592834472656,41.52748107910156,50.01343536376953,48.12065124511719,41.496315002441406,47.00747299194336,48.308677673339844,50.79160690307617,43.203556060791016,49.40717697143555,49.99306106567383,41.603759765625,39.686492919921875,50.83381271362305,44.779537200927734,49.19593811035156,51.69566345214844,47.54901885986328,42.21630859375,51.113460540771484,52.207427978515625,48.292781829833984,45.70791244506836,49.007781982421875,49.27211380004883,43.95171356201172,41.7166633605957,41.613922119140625,43.184627532958984,42.83466720581055,44.92753982543945,46.83678436279297,44.029483795166016,48.716278076171875,50.023807525634766,47.49420928955078,45.466217041015625,41.55753707885742,40.859092712402344,45.52434539794922,42.990013122558594,40.87966537475586,44.594825744628906,49.92310333251953,50.56396484375,41.43980026245117,42.595821380615234,40.98103332519531,40.60169219970703,44.69264221191406,42.313331604003906,50.65040588378906,52.78889465332031,43.91108322143555,44.13608169555664,42.21463394165039,51.47674560546875,41.730186462402344,44.927467346191406,39.835472106933594,43.3299446105957,41.86750793457031,47.545509338378906,42.83917999267578,46.240501403808594,48.915340423583984,44.013511657714844,39.9808464050293,41.82958221435547,42.766639709472656,49.127098083496094,52.260257720947266,40.96451950073242,42.497764587402344,47.91191864013672,51.232906341552734,50.10486602783203,42.10051345825195,46.823856353759766,49.779972076416016,45.75120544433594,49.00446319580078,46.61761474609375,47.920196533203125,50.85798263549805,48.92906951904297,41.25588607788086,45.0994758605957,49.754554748535156,41.417449951171875,50.195499420166016,44.29179382324219,41.77397155761719,43.90058898925781,40.429466247558594,46.079864501953125,48.58562469482422,47.747928619384766,50.900333404541016,42.18313217163086,44.140628814697266,40.116519927978516,50.956058502197266,40.88182830810547,42.01689910888672,47.67185974121094,51.39524841308594,45.06113052368164,42.87299346923828,41.036407470703125,43.143646240234375,51.211124420166016,43.135494232177734,45.211116790771484,43.87224197387695,38.57931900024414,41.590171813964844,44.120540618896484,41.92203140258789,40.173397064208984,49.76726150512695,42.89763641357422,47.70217514038086,42.877140045166016,48.793006896972656,43.06625747680664,40.557044982910156,47.99650573730469,43.09234619140625,52.23980712890625,50.07097244262695,43.201168060302734,42.08193588256836,50.62109375,44.186767578125,40.8978385925293,42.04887008666992,43.80387496948242,49.38024139404297,51.195072174072266,41.30577850341797,42.08839797973633,50.33131790161133,49.727317810058594,47.815059661865234,49.70811080932617,44.57408142089844,48.66445541381836,49.13818359375,48.03907775878906,39.88862609863281,43.054683685302734,44.162933349609375,44.699459075927734,48.06112289428711,49.70185852050781,51.049896240234375,43.12710952758789,42.659141540527344,47.78469467163086,39.95558547973633,42.78286361694336,51.30324935913086,41.034400939941406,41.28278350830078,50.565711975097656,41.37879943847656,42.91954803466797,47.65310287475586,45.74177169799805,40.87693405151367,39.875267028808594,40.081871032714844,43.13453674316406,42.83649826049805,43.846317291259766,41.11399459838867,47.58034133911133,48.73281478881836,49.587520599365234,49.518009185791016,42.32217788696289,40.67860794067383,48.52350997924805,49.41048049926758,52.007606506347656,52.103248596191406,41.08896255493164,41.749610900878906,47.803131103515625,48.330806732177734,44.196842193603516,40.808982849121094,40.2368278503418,44.151790618896484,40.53416061401367,50.98092269897461,52.153724670410156,50.236881256103516,43.06891632080078,49.89066696166992,40.495155334472656,42.971649169921875,43.050350189208984,43.18171310424805,41.02705383300781,46.922386169433594,41.97209548950195,41.835906982421875,42.77366638183594,43.12159729003906,42.28077697753906,47.70791244506836,36.81341552734375,39.125003814697266,42.853477478027344,43.9268913269043,39.4345703125,42.45354461669922,40.47034454345703,45.76791000366211,42.65686798095703,42.88296127319336,40.238426208496094,42.799896240234375,39.38291549682617,39.75694274902344,45.803733825683594,43.180110931396484,41.63750076293945,42.97556686401367,47.88939666748047,41.58615493774414,40.543846130371094,40.98933792114258,40.898101806640625,39.4185676574707,50.18478012084961,39.13657760620117,47.144596099853516,45.549808502197266,38.16271209716797,42.85611343383789,41.70512008666992,48.04429244995117,49.81415557861328,43.107242584228516,39.59635925292969,44.72340774536133,47.48006820678711,40.742393493652344,48.49897766113281,49.63533401489258,46.610557556152344,47.58151626586914,50.69847106933594,43.39788055419922,43.45263671875,39.632957458496094,45.45118713378906,41.950992584228516,52.12202072143555,43.16696548461914,42.32775115966797,47.917320251464844,49.883853912353516,41.92921829223633,44.765846252441406,41.89661407470703,39.40911865234375,49.489227294921875,46.527591705322266,39.74644470214844,44.99383544921875,42.805908203125,48.778785705566406,38.151222229003906,48.489261627197266,50.035545349121094,41.62505340576172,39.98548889160156,41.280120849609375,39.236324310302734,40.34764099121094,40.0328483581543,39.3165283203125,43.14281463623047,46.30293655395508,36.0303840637207,44.64067459106445,45.159446716308594,49.353939056396484,38.180419921875,47.532936096191406,40.81797790527344,47.04087829589844,45.01567459106445,48.232078552246094,44.68027877807617,47.79763412475586,43.2818717956543,39.39073181152344,43.17899703979492,47.87151336669922,48.237247467041016,39.3400993347168,40.43137741088867,41.44135284423828,39.99266815185547,41.41801071166992,47.54125213623047,47.995914459228516,47.95459747314453,43.56005859375,43.749595642089844,40.76655960083008,46.75090789794922,46.962799072265625,45.60533142089844,38.567325592041016,42.57524108886719,31.224687576293945,35.421993255615234,39.0475959777832,40.82145309448242,45.022865295410156,43.072166442871094,36.16372299194336,42.00729751586914,36.89228820800781,39.39910125732422,38.1292724609375,39.64616394042969,37.020084381103516,36.91904830932617,36.9354248046875,39.94113540649414,39.21474838256836,38.645511627197266,38.899253845214844,47.036338806152344,45.01033020019531,40.45881271362305,38.07846450805664,37.529170989990234,47.92277908325195,41.67435073852539,36.29353332519531,47.52790832519531,43.876190185546875,36.969993591308594,45.091094970703125,39.19570541381836,48.30418395996094,47.76708984375,47.817195892333984,47.56026077270508,45.58002853393555,39.05613708496094,38.579166412353516,39.173614501953125,41.031532287597656,37.58858108520508,42.347633361816406,40.1708984375,48.21396255493164,35.93088912963867,46.440975189208984,40.94235610961914,36.52825164794922,38.5351676940918,38.298683166503906,46.23334884643555,42.988685607910156,38.8692626953125,41.67498779296875,36.95833969116211,38.690704345703125,39.03094482421875,46.906532287597656,41.770606994628906,37.397769927978516,37.11250305175781,47.681495666503906,37.877681732177734,47.32981491088867,45.2564811706543,46.18265151977539,47.877071380615234,38.936241149902344,47.15113067626953,46.19578170776367,33.05922317504883,47.026973724365234,37.239437103271484,40.96935272216797,31.218154907226562,46.810672760009766,37.407958984375,43.08076095581055,35.578521728515625,37.48396301269531,46.66778564453125,39.72233200073242,37.215843200683594,49.12379837036133,46.838348388671875,42.172420501708984,38.011199951171875,44.03391647338867,34.2415771484375,38.55319595336914,38.56352233886719,47.84199523925781,48.30155563354492,40.76045227050781,49.12540817260742,37.40528869628906,47.509822845458984,40.01058578491211,46.21030044555664,44.2611198425293,37.627357482910156,37.58772277832031,47.73286819458008,36.06019592285156,38.325111389160156,39.99708557128906,41.84431076049805,41.68952941894531,46.02743148803711,40.378108978271484,46.28348159790039,44.663307189941406,39.38182830810547,46.47115707397461,35.98150634765625,39.98341369628906,48.738990783691406,42.34944534301758,41.75184631347656,38.49232482910156,37.2659797668457,41.11954879760742,35.43815231323242,36.72858428955078,41.93779373168945,37.804473876953125],\"yaxis\":\"y\",\"type\":\"scatter\"}],                        {\"template\":{\"data\":{\"histogram2dcontour\":[{\"type\":\"histogram2dcontour\",\"colorbar\":{\"outlinewidth\":0,\"ticks\":\"\"},\"colorscale\":[[0.0,\"#0d0887\"],[0.1111111111111111,\"#46039f\"],[0.2222222222222222,\"#7201a8\"],[0.3333333333333333,\"#9c179e\"],[0.4444444444444444,\"#bd3786\"],[0.5555555555555556,\"#d8576b\"],[0.6666666666666666,\"#ed7953\"],[0.7777777777777778,\"#fb9f3a\"],[0.8888888888888888,\"#fdca26\"],[1.0,\"#f0f921\"]]}],\"choropleth\":[{\"type\":\"choropleth\",\"colorbar\":{\"outlinewidth\":0,\"ticks\":\"\"}}],\"histogram2d\":[{\"type\":\"histogram2d\",\"colorbar\":{\"outlinewidth\":0,\"ticks\":\"\"},\"colorscale\":[[0.0,\"#0d0887\"],[0.1111111111111111,\"#46039f\"],[0.2222222222222222,\"#7201a8\"],[0.3333333333333333,\"#9c179e\"],[0.4444444444444444,\"#bd3786\"],[0.5555555555555556,\"#d8576b\"],[0.6666666666666666,\"#ed7953\"],[0.7777777777777778,\"#fb9f3a\"],[0.8888888888888888,\"#fdca26\"],[1.0,\"#f0f921\"]]}],\"heatmap\":[{\"type\":\"heatmap\",\"colorbar\":{\"outlinewidth\":0,\"ticks\":\"\"},\"colorscale\":[[0.0,\"#0d0887\"],[0.1111111111111111,\"#46039f\"],[0.2222222222222222,\"#7201a8\"],[0.3333333333333333,\"#9c179e\"],[0.4444444444444444,\"#bd3786\"],[0.5555555555555556,\"#d8576b\"],[0.6666666666666666,\"#ed7953\"],[0.7777777777777778,\"#fb9f3a\"],[0.8888888888888888,\"#fdca26\"],[1.0,\"#f0f921\"]]}],\"heatmapgl\":[{\"type\":\"heatmapgl\",\"colorbar\":{\"outlinewidth\":0,\"ticks\":\"\"},\"colorscale\":[[0.0,\"#0d0887\"],[0.1111111111111111,\"#46039f\"],[0.2222222222222222,\"#7201a8\"],[0.3333333333333333,\"#9c179e\"],[0.4444444444444444,\"#bd3786\"],[0.5555555555555556,\"#d8576b\"],[0.6666666666666666,\"#ed7953\"],[0.7777777777777778,\"#fb9f3a\"],[0.8888888888888888,\"#fdca26\"],[1.0,\"#f0f921\"]]}],\"contourcarpet\":[{\"type\":\"contourcarpet\",\"colorbar\":{\"outlinewidth\":0,\"ticks\":\"\"}}],\"contour\":[{\"type\":\"contour\",\"colorbar\":{\"outlinewidth\":0,\"ticks\":\"\"},\"colorscale\":[[0.0,\"#0d0887\"],[0.1111111111111111,\"#46039f\"],[0.2222222222222222,\"#7201a8\"],[0.3333333333333333,\"#9c179e\"],[0.4444444444444444,\"#bd3786\"],[0.5555555555555556,\"#d8576b\"],[0.6666666666666666,\"#ed7953\"],[0.7777777777777778,\"#fb9f3a\"],[0.8888888888888888,\"#fdca26\"],[1.0,\"#f0f921\"]]}],\"surface\":[{\"type\":\"surface\",\"colorbar\":{\"outlinewidth\":0,\"ticks\":\"\"},\"colorscale\":[[0.0,\"#0d0887\"],[0.1111111111111111,\"#46039f\"],[0.2222222222222222,\"#7201a8\"],[0.3333333333333333,\"#9c179e\"],[0.4444444444444444,\"#bd3786\"],[0.5555555555555556,\"#d8576b\"],[0.6666666666666666,\"#ed7953\"],[0.7777777777777778,\"#fb9f3a\"],[0.8888888888888888,\"#fdca26\"],[1.0,\"#f0f921\"]]}],\"mesh3d\":[{\"type\":\"mesh3d\",\"colorbar\":{\"outlinewidth\":0,\"ticks\":\"\"}}],\"scatter\":[{\"fillpattern\":{\"fillmode\":\"overlay\",\"size\":10,\"solidity\":0.2},\"type\":\"scatter\"}],\"parcoords\":[{\"type\":\"parcoords\",\"line\":{\"colorbar\":{\"outlinewidth\":0,\"ticks\":\"\"}}}],\"scatterpolargl\":[{\"type\":\"scatterpolargl\",\"marker\":{\"colorbar\":{\"outlinewidth\":0,\"ticks\":\"\"}}}],\"bar\":[{\"error_x\":{\"color\":\"#2a3f5f\"},\"error_y\":{\"color\":\"#2a3f5f\"},\"marker\":{\"line\":{\"color\":\"#E5ECF6\",\"width\":0.5},\"pattern\":{\"fillmode\":\"overlay\",\"size\":10,\"solidity\":0.2}},\"type\":\"bar\"}],\"scattergeo\":[{\"type\":\"scattergeo\",\"marker\":{\"colorbar\":{\"outlinewidth\":0,\"ticks\":\"\"}}}],\"scatterpolar\":[{\"type\":\"scatterpolar\",\"marker\":{\"colorbar\":{\"outlinewidth\":0,\"ticks\":\"\"}}}],\"histogram\":[{\"marker\":{\"pattern\":{\"fillmode\":\"overlay\",\"size\":10,\"solidity\":0.2}},\"type\":\"histogram\"}],\"scattergl\":[{\"type\":\"scattergl\",\"marker\":{\"colorbar\":{\"outlinewidth\":0,\"ticks\":\"\"}}}],\"scatter3d\":[{\"type\":\"scatter3d\",\"line\":{\"colorbar\":{\"outlinewidth\":0,\"ticks\":\"\"}},\"marker\":{\"colorbar\":{\"outlinewidth\":0,\"ticks\":\"\"}}}],\"scattermapbox\":[{\"type\":\"scattermapbox\",\"marker\":{\"colorbar\":{\"outlinewidth\":0,\"ticks\":\"\"}}}],\"scatterternary\":[{\"type\":\"scatterternary\",\"marker\":{\"colorbar\":{\"outlinewidth\":0,\"ticks\":\"\"}}}],\"scattercarpet\":[{\"type\":\"scattercarpet\",\"marker\":{\"colorbar\":{\"outlinewidth\":0,\"ticks\":\"\"}}}],\"carpet\":[{\"aaxis\":{\"endlinecolor\":\"#2a3f5f\",\"gridcolor\":\"white\",\"linecolor\":\"white\",\"minorgridcolor\":\"white\",\"startlinecolor\":\"#2a3f5f\"},\"baxis\":{\"endlinecolor\":\"#2a3f5f\",\"gridcolor\":\"white\",\"linecolor\":\"white\",\"minorgridcolor\":\"white\",\"startlinecolor\":\"#2a3f5f\"},\"type\":\"carpet\"}],\"table\":[{\"cells\":{\"fill\":{\"color\":\"#EBF0F8\"},\"line\":{\"color\":\"white\"}},\"header\":{\"fill\":{\"color\":\"#C8D4E3\"},\"line\":{\"color\":\"white\"}},\"type\":\"table\"}],\"barpolar\":[{\"marker\":{\"line\":{\"color\":\"#E5ECF6\",\"width\":0.5},\"pattern\":{\"fillmode\":\"overlay\",\"size\":10,\"solidity\":0.2}},\"type\":\"barpolar\"}],\"pie\":[{\"automargin\":true,\"type\":\"pie\"}]},\"layout\":{\"autotypenumbers\":\"strict\",\"colorway\":[\"#636efa\",\"#EF553B\",\"#00cc96\",\"#ab63fa\",\"#FFA15A\",\"#19d3f3\",\"#FF6692\",\"#B6E880\",\"#FF97FF\",\"#FECB52\"],\"font\":{\"color\":\"#2a3f5f\"},\"hovermode\":\"closest\",\"hoverlabel\":{\"align\":\"left\"},\"paper_bgcolor\":\"white\",\"plot_bgcolor\":\"#E5ECF6\",\"polar\":{\"bgcolor\":\"#E5ECF6\",\"angularaxis\":{\"gridcolor\":\"white\",\"linecolor\":\"white\",\"ticks\":\"\"},\"radialaxis\":{\"gridcolor\":\"white\",\"linecolor\":\"white\",\"ticks\":\"\"}},\"ternary\":{\"bgcolor\":\"#E5ECF6\",\"aaxis\":{\"gridcolor\":\"white\",\"linecolor\":\"white\",\"ticks\":\"\"},\"baxis\":{\"gridcolor\":\"white\",\"linecolor\":\"white\",\"ticks\":\"\"},\"caxis\":{\"gridcolor\":\"white\",\"linecolor\":\"white\",\"ticks\":\"\"}},\"coloraxis\":{\"colorbar\":{\"outlinewidth\":0,\"ticks\":\"\"}},\"colorscale\":{\"sequential\":[[0.0,\"#0d0887\"],[0.1111111111111111,\"#46039f\"],[0.2222222222222222,\"#7201a8\"],[0.3333333333333333,\"#9c179e\"],[0.4444444444444444,\"#bd3786\"],[0.5555555555555556,\"#d8576b\"],[0.6666666666666666,\"#ed7953\"],[0.7777777777777778,\"#fb9f3a\"],[0.8888888888888888,\"#fdca26\"],[1.0,\"#f0f921\"]],\"sequentialminus\":[[0.0,\"#0d0887\"],[0.1111111111111111,\"#46039f\"],[0.2222222222222222,\"#7201a8\"],[0.3333333333333333,\"#9c179e\"],[0.4444444444444444,\"#bd3786\"],[0.5555555555555556,\"#d8576b\"],[0.6666666666666666,\"#ed7953\"],[0.7777777777777778,\"#fb9f3a\"],[0.8888888888888888,\"#fdca26\"],[1.0,\"#f0f921\"]],\"diverging\":[[0,\"#8e0152\"],[0.1,\"#c51b7d\"],[0.2,\"#de77ae\"],[0.3,\"#f1b6da\"],[0.4,\"#fde0ef\"],[0.5,\"#f7f7f7\"],[0.6,\"#e6f5d0\"],[0.7,\"#b8e186\"],[0.8,\"#7fbc41\"],[0.9,\"#4d9221\"],[1,\"#276419\"]]},\"xaxis\":{\"gridcolor\":\"white\",\"linecolor\":\"white\",\"ticks\":\"\",\"title\":{\"standoff\":15},\"zerolinecolor\":\"white\",\"automargin\":true,\"zerolinewidth\":2},\"yaxis\":{\"gridcolor\":\"white\",\"linecolor\":\"white\",\"ticks\":\"\",\"title\":{\"standoff\":15},\"zerolinecolor\":\"white\",\"automargin\":true,\"zerolinewidth\":2},\"scene\":{\"xaxis\":{\"backgroundcolor\":\"#E5ECF6\",\"gridcolor\":\"white\",\"linecolor\":\"white\",\"showbackground\":true,\"ticks\":\"\",\"zerolinecolor\":\"white\",\"gridwidth\":2},\"yaxis\":{\"backgroundcolor\":\"#E5ECF6\",\"gridcolor\":\"white\",\"linecolor\":\"white\",\"showbackground\":true,\"ticks\":\"\",\"zerolinecolor\":\"white\",\"gridwidth\":2},\"zaxis\":{\"backgroundcolor\":\"#E5ECF6\",\"gridcolor\":\"white\",\"linecolor\":\"white\",\"showbackground\":true,\"ticks\":\"\",\"zerolinecolor\":\"white\",\"gridwidth\":2}},\"shapedefaults\":{\"line\":{\"color\":\"#2a3f5f\"}},\"annotationdefaults\":{\"arrowcolor\":\"#2a3f5f\",\"arrowhead\":0,\"arrowwidth\":1},\"geo\":{\"bgcolor\":\"white\",\"landcolor\":\"#E5ECF6\",\"subunitcolor\":\"white\",\"showland\":true,\"showlakes\":true,\"lakecolor\":\"white\"},\"title\":{\"x\":0.05},\"mapbox\":{\"style\":\"light\"}}},\"xaxis\":{\"anchor\":\"y\",\"domain\":[0.0,1.0],\"title\":{\"text\":\"x\"}},\"yaxis\":{\"anchor\":\"x\",\"domain\":[0.0,1.0],\"title\":{\"text\":\"y\"}},\"legend\":{\"tracegroupgap\":0,\"itemsizing\":\"constant\"},\"title\":{\"text\":\"Word Embedding Space using t-SNE\"},\"hovermode\":\"closest\"},                        {\"responsive\": true}                    ).then(function(){\n",
              "                            \n",
              "var gd = document.getElementById('6d748543-982d-4ff9-8878-a1d25d2bacb4');\n",
              "var x = new MutationObserver(function (mutations, observer) {{\n",
              "        var display = window.getComputedStyle(gd).display;\n",
              "        if (!display || display === 'none') {{\n",
              "            console.log([gd, 'removed!']);\n",
              "            Plotly.purge(gd);\n",
              "            observer.disconnect();\n",
              "        }}\n",
              "}});\n",
              "\n",
              "// Listen for the removal of the full notebook cells\n",
              "var notebookContainer = gd.closest('#notebook-container');\n",
              "if (notebookContainer) {{\n",
              "    x.observe(notebookContainer, {childList: true});\n",
              "}}\n",
              "\n",
              "// Listen for the clearing of the current output cell\n",
              "var outputEl = gd.closest('.output');\n",
              "if (outputEl) {{\n",
              "    x.observe(outputEl, {childList: true});\n",
              "}}\n",
              "\n",
              "                        })                };                            </script>        </div>\n",
              "</body>\n",
              "</html>"
            ]
          },
          "metadata": {}
        }
      ]
    },
    {
      "cell_type": "markdown",
      "source": [
        "below is trash still"
      ],
      "metadata": {
        "id": "zBJzEBeI8f56"
      }
    },
    {
      "cell_type": "code",
      "source": [
        "from sklearn.decomposition import PCA\n",
        "import numpy as np\n",
        "import pandas as pd\n",
        "stop_words = set(nltk.corpus.stopwords.words('english'))\n"
      ],
      "metadata": {
        "id": "bwsGGJ97Vh9f"
      },
      "execution_count": 22,
      "outputs": []
    },
    {
      "cell_type": "code",
      "source": [
        "bigram = Phrases(df['lemmatized_str'], min_count=5, threshold=10)\n",
        "bigram_phraser = Phraser(bigram)\n",
        "df['bigramed'] = df['lemmatized_str'].apply(lambda doc: bigram_phraser[doc])\n",
        "\n",
        "\n"
      ],
      "metadata": {
        "id": "gU8z50g9Aq6-"
      },
      "execution_count": 58,
      "outputs": []
    },
    {
      "cell_type": "code",
      "source": [
        "grouped = df.groupby('school')['bigramed'].agg(lambda texts: [word for sublist in texts for word in sublist])\n"
      ],
      "metadata": {
        "id": "F7i730dFr3eZ"
      },
      "execution_count": 59,
      "outputs": []
    },
    {
      "cell_type": "code",
      "source": [
        "\n",
        "\n",
        "# Preprocessing the tokens\n",
        "df['cleaned'] = df['gensim_tokenized'].apply(lambda tokens: [word.lower() for word in tokens if word.lower() not in stop_words])\n",
        "\n",
        "# Aggregate and prepare data by school\n",
        "grouped = df.groupby('school')['cleaned'].agg(lambda texts: [word for sublist in texts for word in sublist])\n",
        "\n",
        "models = {}\n",
        "top_words = {}\n",
        "colors = ['b', 'g', 'r', 'c', 'm', 'y', 'k','b','p','lb',]\n",
        "\n",
        "for school, texts in grouped.items():\n",
        "    if not texts:\n",
        "        print(f\"No data for school {school}, skipping model training.\")\n",
        "        continue\n",
        "\n",
        "    # Ensure texts are lists of lists\n",
        "    texts = [texts] if isinstance(texts, list) and all(isinstance(w, str) for w in texts) else [texts.split()]\n",
        "\n",
        "    # Train the model\n",
        "    model = Word2Vec(sentences=texts, vector_size=100, window=5, min_count=2, workers=4)\n",
        "    models[school] = model\n",
        "\n",
        "    # Extract the top words if the model's vocabulary is non-empty\n",
        "    if len(model.wv.index_to_key) > 0:\n",
        "        # Use the first word in the vocabulary if it exists as the base to find similar words\n",
        "        base_word = model.wv.index_to_key[0]\n",
        "        top_words[school] = [word for word, _ in model.wv.most_similar(base_word, topn=5)]\n",
        "    else:\n",
        "        top_words[school] = []\n",
        "        print(f\"No vocabulary for school {school}, skipping top words extraction.\")\n",
        "\n",
        "# Collect all unique top words for PCA\n",
        "all_words = [word for words in top_words.values() for word in words]\n",
        "word_vectors = np.array([model.wv[word] for school in top_words for word in top_words[school] if word in model.wv])\n",
        "\n",
        "# Apply PCA\n",
        "pca = PCA(n_components=2)\n",
        "transformed_vectors = pca.fit_transform(word_vectors)\n",
        "\n",
        "# Visualization\n",
        "plt.figure(figsize=(12, 8))\n",
        "for i, (school, words) in enumerate(top_words.items()):\n",
        "    if not words:\n",
        "        continue\n",
        "    school_vectors = transformed_vectors[i*5:(i+1)*5, :]\n",
        "    plt.scatter(school_vectors[:, 0], school_vectors[:, 1], label=school, color=colors[i % len(colors)])\n",
        "    for j, word in enumerate(words):\n",
        "        plt.annotate(word, (school_vectors[j, 0], school_vectors[j, 1]), textcoords=\"offset points\", xytext=(0,10), ha='center')\n",
        "\n",
        "plt.title('Top Keywords by School in Word Embedding Space')\n",
        "plt.legend()\n",
        "plt.grid(True)\n",
        "plt.show()\n"
      ],
      "metadata": {
        "colab": {
          "base_uri": "https://localhost:8080/",
          "height": 1000
        },
        "id": "UrdQoZznwHTT",
        "outputId": "fbf65b52-4189-4615-d763-d8f4ef0df6a6"
      },
      "execution_count": 67,
      "outputs": [
        {
          "output_type": "error",
          "ename": "ValueError",
          "evalue": "'color' kwarg must be a color or sequence of color specs.  For a sequence of values to be color-mapped, use the 'c' argument instead.",
          "traceback": [
            "\u001b[0;31m---------------------------------------------------------------------------\u001b[0m",
            "\u001b[0;31mValueError\u001b[0m                                Traceback (most recent call last)",
            "\u001b[0;32m/usr/local/lib/python3.10/dist-packages/matplotlib/axes/_axes.py\u001b[0m in \u001b[0;36m_parse_scatter_color_args\u001b[0;34m(c, edgecolors, kwargs, xsize, get_next_color_func)\u001b[0m\n\u001b[1;32m   4377\u001b[0m             \u001b[0;32mtry\u001b[0m\u001b[0;34m:\u001b[0m\u001b[0;34m\u001b[0m\u001b[0;34m\u001b[0m\u001b[0m\n\u001b[0;32m-> 4378\u001b[0;31m                 \u001b[0mmcolors\u001b[0m\u001b[0;34m.\u001b[0m\u001b[0mto_rgba_array\u001b[0m\u001b[0;34m(\u001b[0m\u001b[0mkwcolor\u001b[0m\u001b[0;34m)\u001b[0m\u001b[0;34m\u001b[0m\u001b[0;34m\u001b[0m\u001b[0m\n\u001b[0m\u001b[1;32m   4379\u001b[0m             \u001b[0;32mexcept\u001b[0m \u001b[0mValueError\u001b[0m \u001b[0;32mas\u001b[0m \u001b[0merr\u001b[0m\u001b[0;34m:\u001b[0m\u001b[0;34m\u001b[0m\u001b[0;34m\u001b[0m\u001b[0m\n",
            "\u001b[0;32m/usr/local/lib/python3.10/dist-packages/matplotlib/colors.py\u001b[0m in \u001b[0;36mto_rgba_array\u001b[0;34m(c, alpha)\u001b[0m\n\u001b[1;32m    470\u001b[0m     \u001b[0;32mif\u001b[0m \u001b[0misinstance\u001b[0m\u001b[0;34m(\u001b[0m\u001b[0mc\u001b[0m\u001b[0;34m,\u001b[0m \u001b[0mstr\u001b[0m\u001b[0;34m)\u001b[0m\u001b[0;34m:\u001b[0m\u001b[0;34m\u001b[0m\u001b[0;34m\u001b[0m\u001b[0m\n\u001b[0;32m--> 471\u001b[0;31m         \u001b[0;32mraise\u001b[0m \u001b[0mValueError\u001b[0m\u001b[0;34m(\u001b[0m\u001b[0;34mf\"{c!r} is not a valid color value.\"\u001b[0m\u001b[0;34m)\u001b[0m\u001b[0;34m\u001b[0m\u001b[0;34m\u001b[0m\u001b[0m\n\u001b[0m\u001b[1;32m    472\u001b[0m \u001b[0;34m\u001b[0m\u001b[0m\n",
            "\u001b[0;31mValueError\u001b[0m: 'p' is not a valid color value.",
            "\nThe above exception was the direct cause of the following exception:\n",
            "\u001b[0;31mValueError\u001b[0m                                Traceback (most recent call last)",
            "\u001b[0;32m<ipython-input-67-960875103e74>\u001b[0m in \u001b[0;36m<cell line: 42>\u001b[0;34m()\u001b[0m\n\u001b[1;32m     44\u001b[0m         \u001b[0;32mcontinue\u001b[0m\u001b[0;34m\u001b[0m\u001b[0;34m\u001b[0m\u001b[0m\n\u001b[1;32m     45\u001b[0m     \u001b[0mschool_vectors\u001b[0m \u001b[0;34m=\u001b[0m \u001b[0mtransformed_vectors\u001b[0m\u001b[0;34m[\u001b[0m\u001b[0mi\u001b[0m\u001b[0;34m*\u001b[0m\u001b[0;36m5\u001b[0m\u001b[0;34m:\u001b[0m\u001b[0;34m(\u001b[0m\u001b[0mi\u001b[0m\u001b[0;34m+\u001b[0m\u001b[0;36m1\u001b[0m\u001b[0;34m)\u001b[0m\u001b[0;34m*\u001b[0m\u001b[0;36m5\u001b[0m\u001b[0;34m,\u001b[0m \u001b[0;34m:\u001b[0m\u001b[0;34m]\u001b[0m\u001b[0;34m\u001b[0m\u001b[0;34m\u001b[0m\u001b[0m\n\u001b[0;32m---> 46\u001b[0;31m     \u001b[0mplt\u001b[0m\u001b[0;34m.\u001b[0m\u001b[0mscatter\u001b[0m\u001b[0;34m(\u001b[0m\u001b[0mschool_vectors\u001b[0m\u001b[0;34m[\u001b[0m\u001b[0;34m:\u001b[0m\u001b[0;34m,\u001b[0m \u001b[0;36m0\u001b[0m\u001b[0;34m]\u001b[0m\u001b[0;34m,\u001b[0m \u001b[0mschool_vectors\u001b[0m\u001b[0;34m[\u001b[0m\u001b[0;34m:\u001b[0m\u001b[0;34m,\u001b[0m \u001b[0;36m1\u001b[0m\u001b[0;34m]\u001b[0m\u001b[0;34m,\u001b[0m \u001b[0mlabel\u001b[0m\u001b[0;34m=\u001b[0m\u001b[0mschool\u001b[0m\u001b[0;34m,\u001b[0m \u001b[0mcolor\u001b[0m\u001b[0;34m=\u001b[0m\u001b[0mcolors\u001b[0m\u001b[0;34m[\u001b[0m\u001b[0mi\u001b[0m \u001b[0;34m%\u001b[0m \u001b[0mlen\u001b[0m\u001b[0;34m(\u001b[0m\u001b[0mcolors\u001b[0m\u001b[0;34m)\u001b[0m\u001b[0;34m]\u001b[0m\u001b[0;34m)\u001b[0m\u001b[0;34m\u001b[0m\u001b[0;34m\u001b[0m\u001b[0m\n\u001b[0m\u001b[1;32m     47\u001b[0m     \u001b[0;32mfor\u001b[0m \u001b[0mj\u001b[0m\u001b[0;34m,\u001b[0m \u001b[0mword\u001b[0m \u001b[0;32min\u001b[0m \u001b[0menumerate\u001b[0m\u001b[0;34m(\u001b[0m\u001b[0mwords\u001b[0m\u001b[0;34m)\u001b[0m\u001b[0;34m:\u001b[0m\u001b[0;34m\u001b[0m\u001b[0;34m\u001b[0m\u001b[0m\n\u001b[1;32m     48\u001b[0m         \u001b[0mplt\u001b[0m\u001b[0;34m.\u001b[0m\u001b[0mannotate\u001b[0m\u001b[0;34m(\u001b[0m\u001b[0mword\u001b[0m\u001b[0;34m,\u001b[0m \u001b[0;34m(\u001b[0m\u001b[0mschool_vectors\u001b[0m\u001b[0;34m[\u001b[0m\u001b[0mj\u001b[0m\u001b[0;34m,\u001b[0m \u001b[0;36m0\u001b[0m\u001b[0;34m]\u001b[0m\u001b[0;34m,\u001b[0m \u001b[0mschool_vectors\u001b[0m\u001b[0;34m[\u001b[0m\u001b[0mj\u001b[0m\u001b[0;34m,\u001b[0m \u001b[0;36m1\u001b[0m\u001b[0;34m]\u001b[0m\u001b[0;34m)\u001b[0m\u001b[0;34m,\u001b[0m \u001b[0mtextcoords\u001b[0m\u001b[0;34m=\u001b[0m\u001b[0;34m\"offset points\"\u001b[0m\u001b[0;34m,\u001b[0m \u001b[0mxytext\u001b[0m\u001b[0;34m=\u001b[0m\u001b[0;34m(\u001b[0m\u001b[0;36m0\u001b[0m\u001b[0;34m,\u001b[0m\u001b[0;36m10\u001b[0m\u001b[0;34m)\u001b[0m\u001b[0;34m,\u001b[0m \u001b[0mha\u001b[0m\u001b[0;34m=\u001b[0m\u001b[0;34m'center'\u001b[0m\u001b[0;34m)\u001b[0m\u001b[0;34m\u001b[0m\u001b[0;34m\u001b[0m\u001b[0m\n",
            "\u001b[0;32m/usr/local/lib/python3.10/dist-packages/matplotlib/pyplot.py\u001b[0m in \u001b[0;36mscatter\u001b[0;34m(x, y, s, c, marker, cmap, norm, vmin, vmax, alpha, linewidths, edgecolors, plotnonfinite, data, **kwargs)\u001b[0m\n\u001b[1;32m   2860\u001b[0m         \u001b[0mvmin\u001b[0m\u001b[0;34m=\u001b[0m\u001b[0;32mNone\u001b[0m\u001b[0;34m,\u001b[0m \u001b[0mvmax\u001b[0m\u001b[0;34m=\u001b[0m\u001b[0;32mNone\u001b[0m\u001b[0;34m,\u001b[0m \u001b[0malpha\u001b[0m\u001b[0;34m=\u001b[0m\u001b[0;32mNone\u001b[0m\u001b[0;34m,\u001b[0m \u001b[0mlinewidths\u001b[0m\u001b[0;34m=\u001b[0m\u001b[0;32mNone\u001b[0m\u001b[0;34m,\u001b[0m \u001b[0;34m*\u001b[0m\u001b[0;34m,\u001b[0m\u001b[0;34m\u001b[0m\u001b[0;34m\u001b[0m\u001b[0m\n\u001b[1;32m   2861\u001b[0m         edgecolors=None, plotnonfinite=False, data=None, **kwargs):\n\u001b[0;32m-> 2862\u001b[0;31m     __ret = gca().scatter(\n\u001b[0m\u001b[1;32m   2863\u001b[0m         \u001b[0mx\u001b[0m\u001b[0;34m,\u001b[0m \u001b[0my\u001b[0m\u001b[0;34m,\u001b[0m \u001b[0ms\u001b[0m\u001b[0;34m=\u001b[0m\u001b[0ms\u001b[0m\u001b[0;34m,\u001b[0m \u001b[0mc\u001b[0m\u001b[0;34m=\u001b[0m\u001b[0mc\u001b[0m\u001b[0;34m,\u001b[0m \u001b[0mmarker\u001b[0m\u001b[0;34m=\u001b[0m\u001b[0mmarker\u001b[0m\u001b[0;34m,\u001b[0m \u001b[0mcmap\u001b[0m\u001b[0;34m=\u001b[0m\u001b[0mcmap\u001b[0m\u001b[0;34m,\u001b[0m \u001b[0mnorm\u001b[0m\u001b[0;34m=\u001b[0m\u001b[0mnorm\u001b[0m\u001b[0;34m,\u001b[0m\u001b[0;34m\u001b[0m\u001b[0;34m\u001b[0m\u001b[0m\n\u001b[1;32m   2864\u001b[0m         \u001b[0mvmin\u001b[0m\u001b[0;34m=\u001b[0m\u001b[0mvmin\u001b[0m\u001b[0;34m,\u001b[0m \u001b[0mvmax\u001b[0m\u001b[0;34m=\u001b[0m\u001b[0mvmax\u001b[0m\u001b[0;34m,\u001b[0m \u001b[0malpha\u001b[0m\u001b[0;34m=\u001b[0m\u001b[0malpha\u001b[0m\u001b[0;34m,\u001b[0m \u001b[0mlinewidths\u001b[0m\u001b[0;34m=\u001b[0m\u001b[0mlinewidths\u001b[0m\u001b[0;34m,\u001b[0m\u001b[0;34m\u001b[0m\u001b[0;34m\u001b[0m\u001b[0m\n",
            "\u001b[0;32m/usr/local/lib/python3.10/dist-packages/matplotlib/__init__.py\u001b[0m in \u001b[0;36minner\u001b[0;34m(ax, data, *args, **kwargs)\u001b[0m\n\u001b[1;32m   1440\u001b[0m     \u001b[0;32mdef\u001b[0m \u001b[0minner\u001b[0m\u001b[0;34m(\u001b[0m\u001b[0max\u001b[0m\u001b[0;34m,\u001b[0m \u001b[0;34m*\u001b[0m\u001b[0margs\u001b[0m\u001b[0;34m,\u001b[0m \u001b[0mdata\u001b[0m\u001b[0;34m=\u001b[0m\u001b[0;32mNone\u001b[0m\u001b[0;34m,\u001b[0m \u001b[0;34m**\u001b[0m\u001b[0mkwargs\u001b[0m\u001b[0;34m)\u001b[0m\u001b[0;34m:\u001b[0m\u001b[0;34m\u001b[0m\u001b[0;34m\u001b[0m\u001b[0m\n\u001b[1;32m   1441\u001b[0m         \u001b[0;32mif\u001b[0m \u001b[0mdata\u001b[0m \u001b[0;32mis\u001b[0m \u001b[0;32mNone\u001b[0m\u001b[0;34m:\u001b[0m\u001b[0;34m\u001b[0m\u001b[0;34m\u001b[0m\u001b[0m\n\u001b[0;32m-> 1442\u001b[0;31m             \u001b[0;32mreturn\u001b[0m \u001b[0mfunc\u001b[0m\u001b[0;34m(\u001b[0m\u001b[0max\u001b[0m\u001b[0;34m,\u001b[0m \u001b[0;34m*\u001b[0m\u001b[0mmap\u001b[0m\u001b[0;34m(\u001b[0m\u001b[0msanitize_sequence\u001b[0m\u001b[0;34m,\u001b[0m \u001b[0margs\u001b[0m\u001b[0;34m)\u001b[0m\u001b[0;34m,\u001b[0m \u001b[0;34m**\u001b[0m\u001b[0mkwargs\u001b[0m\u001b[0;34m)\u001b[0m\u001b[0;34m\u001b[0m\u001b[0;34m\u001b[0m\u001b[0m\n\u001b[0m\u001b[1;32m   1443\u001b[0m \u001b[0;34m\u001b[0m\u001b[0m\n\u001b[1;32m   1444\u001b[0m         \u001b[0mbound\u001b[0m \u001b[0;34m=\u001b[0m \u001b[0mnew_sig\u001b[0m\u001b[0;34m.\u001b[0m\u001b[0mbind\u001b[0m\u001b[0;34m(\u001b[0m\u001b[0max\u001b[0m\u001b[0;34m,\u001b[0m \u001b[0;34m*\u001b[0m\u001b[0margs\u001b[0m\u001b[0;34m,\u001b[0m \u001b[0;34m**\u001b[0m\u001b[0mkwargs\u001b[0m\u001b[0;34m)\u001b[0m\u001b[0;34m\u001b[0m\u001b[0;34m\u001b[0m\u001b[0m\n",
            "\u001b[0;32m/usr/local/lib/python3.10/dist-packages/matplotlib/axes/_axes.py\u001b[0m in \u001b[0;36mscatter\u001b[0;34m(self, x, y, s, c, marker, cmap, norm, vmin, vmax, alpha, linewidths, edgecolors, plotnonfinite, **kwargs)\u001b[0m\n\u001b[1;32m   4600\u001b[0m             \u001b[0morig_edgecolor\u001b[0m \u001b[0;34m=\u001b[0m \u001b[0mkwargs\u001b[0m\u001b[0;34m.\u001b[0m\u001b[0mget\u001b[0m\u001b[0;34m(\u001b[0m\u001b[0;34m'edgecolor'\u001b[0m\u001b[0;34m,\u001b[0m \u001b[0;32mNone\u001b[0m\u001b[0;34m)\u001b[0m\u001b[0;34m\u001b[0m\u001b[0;34m\u001b[0m\u001b[0m\n\u001b[1;32m   4601\u001b[0m         \u001b[0mc\u001b[0m\u001b[0;34m,\u001b[0m \u001b[0mcolors\u001b[0m\u001b[0;34m,\u001b[0m \u001b[0medgecolors\u001b[0m \u001b[0;34m=\u001b[0m\u001b[0;31m \u001b[0m\u001b[0;31m\\\u001b[0m\u001b[0;34m\u001b[0m\u001b[0;34m\u001b[0m\u001b[0m\n\u001b[0;32m-> 4602\u001b[0;31m             self._parse_scatter_color_args(\n\u001b[0m\u001b[1;32m   4603\u001b[0m                 \u001b[0mc\u001b[0m\u001b[0;34m,\u001b[0m \u001b[0medgecolors\u001b[0m\u001b[0;34m,\u001b[0m \u001b[0mkwargs\u001b[0m\u001b[0;34m,\u001b[0m \u001b[0mx\u001b[0m\u001b[0;34m.\u001b[0m\u001b[0msize\u001b[0m\u001b[0;34m,\u001b[0m\u001b[0;34m\u001b[0m\u001b[0;34m\u001b[0m\u001b[0m\n\u001b[1;32m   4604\u001b[0m                 get_next_color_func=self._get_patches_for_fill.get_next_color)\n",
            "\u001b[0;32m/usr/local/lib/python3.10/dist-packages/matplotlib/axes/_axes.py\u001b[0m in \u001b[0;36m_parse_scatter_color_args\u001b[0;34m(c, edgecolors, kwargs, xsize, get_next_color_func)\u001b[0m\n\u001b[1;32m   4378\u001b[0m                 \u001b[0mmcolors\u001b[0m\u001b[0;34m.\u001b[0m\u001b[0mto_rgba_array\u001b[0m\u001b[0;34m(\u001b[0m\u001b[0mkwcolor\u001b[0m\u001b[0;34m)\u001b[0m\u001b[0;34m\u001b[0m\u001b[0;34m\u001b[0m\u001b[0m\n\u001b[1;32m   4379\u001b[0m             \u001b[0;32mexcept\u001b[0m \u001b[0mValueError\u001b[0m \u001b[0;32mas\u001b[0m \u001b[0merr\u001b[0m\u001b[0;34m:\u001b[0m\u001b[0;34m\u001b[0m\u001b[0;34m\u001b[0m\u001b[0m\n\u001b[0;32m-> 4380\u001b[0;31m                 raise ValueError(\n\u001b[0m\u001b[1;32m   4381\u001b[0m                     \u001b[0;34m\"'color' kwarg must be a color or sequence of color \"\u001b[0m\u001b[0;34m\u001b[0m\u001b[0;34m\u001b[0m\u001b[0m\n\u001b[1;32m   4382\u001b[0m                     \u001b[0;34m\"specs.  For a sequence of values to be color-mapped, use \"\u001b[0m\u001b[0;34m\u001b[0m\u001b[0;34m\u001b[0m\u001b[0m\n",
            "\u001b[0;31mValueError\u001b[0m: 'color' kwarg must be a color or sequence of color specs.  For a sequence of values to be color-mapped, use the 'c' argument instead."
          ]
        },
        {
          "output_type": "display_data",
          "data": {
            "text/plain": [
              "<Figure size 1200x800 with 1 Axes>"
            ],
            "image/png": "[encoded data removed]"
          },
          "metadata": {}
        }
      ]
    },
    {
      "cell_type": "code",
      "source": [
        "models = {}\n",
        "top_words = {}\n",
        "colors = ['b', 'g', 'r', 'c', 'm', 'y', 'k','p','o','p']"
      ],
      "metadata": {
        "id": "bhDF2ZriV1ts"
      },
      "execution_count": 60,
      "outputs": []
    },
    {
      "cell_type": "code",
      "source": [
        "\n",
        "for school, texts in grouped.items():\n",
        "    model = Word2Vec(sentences=texts, vector_size=100, window=5, min_count=2, workers=4)\n",
        "    models[school] = model\n",
        "    top_words[school] = {word: model.wv.most_similar(word, topn=5) for word in model.wv.index_to_key}\n",
        "print(top_words)"
      ],
      "metadata": {
        "colab": {
          "base_uri": "https://localhost:8080/",
          "height": 473
        },
        "id": "xN2LuimNkGrB",
        "outputId": "4653d84b-62fb-4829-a51c-1f15445928aa"
      },
      "execution_count": 62,
      "outputs": [
        {
          "output_type": "stream",
          "name": "stderr",
          "text": [
            "WARNING:gensim.models.word2vec:Each 'sentences' item should be a list of words (usually unicode strings). First item here is instead plain <class 'str'>.\n",
            "WARNING:gensim.models.word2vec:Each 'sentences' item should be a list of words (usually unicode strings). First item here is instead plain <class 'str'>.\n"
          ]
        },
        {
          "output_type": "error",
          "ename": "KeyboardInterrupt",
          "evalue": "",
          "traceback": [
            "\u001b[0;31m---------------------------------------------------------------------------\u001b[0m",
            "\u001b[0;31mKeyboardInterrupt\u001b[0m                         Traceback (most recent call last)",
            "\u001b[0;32m<ipython-input-62-8008095acf02>\u001b[0m in \u001b[0;36m<cell line: 1>\u001b[0;34m()\u001b[0m\n\u001b[1;32m      1\u001b[0m \u001b[0;32mfor\u001b[0m \u001b[0mschool\u001b[0m\u001b[0;34m,\u001b[0m \u001b[0mtexts\u001b[0m \u001b[0;32min\u001b[0m \u001b[0mgrouped\u001b[0m\u001b[0;34m.\u001b[0m\u001b[0mitems\u001b[0m\u001b[0;34m(\u001b[0m\u001b[0;34m)\u001b[0m\u001b[0;34m:\u001b[0m\u001b[0;34m\u001b[0m\u001b[0;34m\u001b[0m\u001b[0m\n\u001b[0;32m----> 2\u001b[0;31m     \u001b[0mmodel\u001b[0m \u001b[0;34m=\u001b[0m \u001b[0mWord2Vec\u001b[0m\u001b[0;34m(\u001b[0m\u001b[0msentences\u001b[0m\u001b[0;34m=\u001b[0m\u001b[0mtexts\u001b[0m\u001b[0;34m,\u001b[0m \u001b[0mvector_size\u001b[0m\u001b[0;34m=\u001b[0m\u001b[0;36m100\u001b[0m\u001b[0;34m,\u001b[0m \u001b[0mwindow\u001b[0m\u001b[0;34m=\u001b[0m\u001b[0;36m5\u001b[0m\u001b[0;34m,\u001b[0m \u001b[0mmin_count\u001b[0m\u001b[0;34m=\u001b[0m\u001b[0;36m2\u001b[0m\u001b[0;34m,\u001b[0m \u001b[0mworkers\u001b[0m\u001b[0;34m=\u001b[0m\u001b[0;36m4\u001b[0m\u001b[0;34m)\u001b[0m\u001b[0;34m\u001b[0m\u001b[0;34m\u001b[0m\u001b[0m\n\u001b[0m\u001b[1;32m      3\u001b[0m     \u001b[0mmodels\u001b[0m\u001b[0;34m[\u001b[0m\u001b[0mschool\u001b[0m\u001b[0;34m]\u001b[0m \u001b[0;34m=\u001b[0m \u001b[0mmodel\u001b[0m\u001b[0;34m\u001b[0m\u001b[0;34m\u001b[0m\u001b[0m\n\u001b[1;32m      4\u001b[0m     \u001b[0mtop_words\u001b[0m\u001b[0;34m[\u001b[0m\u001b[0mschool\u001b[0m\u001b[0;34m]\u001b[0m \u001b[0;34m=\u001b[0m \u001b[0;34m{\u001b[0m\u001b[0mword\u001b[0m\u001b[0;34m:\u001b[0m \u001b[0mmodel\u001b[0m\u001b[0;34m.\u001b[0m\u001b[0mwv\u001b[0m\u001b[0;34m.\u001b[0m\u001b[0mmost_similar\u001b[0m\u001b[0;34m(\u001b[0m\u001b[0mword\u001b[0m\u001b[0;34m,\u001b[0m \u001b[0mtopn\u001b[0m\u001b[0;34m=\u001b[0m\u001b[0;36m5\u001b[0m\u001b[0;34m)\u001b[0m \u001b[0;32mfor\u001b[0m \u001b[0mword\u001b[0m \u001b[0;32min\u001b[0m \u001b[0mmodel\u001b[0m\u001b[0;34m.\u001b[0m\u001b[0mwv\u001b[0m\u001b[0;34m.\u001b[0m\u001b[0mindex_to_key\u001b[0m\u001b[0;34m}\u001b[0m\u001b[0;34m\u001b[0m\u001b[0;34m\u001b[0m\u001b[0m\n\u001b[1;32m      5\u001b[0m \u001b[0mprint\u001b[0m\u001b[0;34m(\u001b[0m\u001b[0mtop_words\u001b[0m\u001b[0;34m)\u001b[0m\u001b[0;34m\u001b[0m\u001b[0;34m\u001b[0m\u001b[0m\n",
            "\u001b[0;32m/usr/local/lib/python3.10/dist-packages/gensim/models/word2vec.py\u001b[0m in \u001b[0;36m__init__\u001b[0;34m(self, sentences, corpus_file, vector_size, alpha, window, min_count, max_vocab_size, sample, seed, workers, min_alpha, sg, hs, negative, ns_exponent, cbow_mean, hashfxn, epochs, null_word, trim_rule, sorted_vocab, batch_words, compute_loss, callbacks, comment, max_final_vocab, shrink_windows)\u001b[0m\n\u001b[1;32m    428\u001b[0m             \u001b[0mself\u001b[0m\u001b[0;34m.\u001b[0m\u001b[0m_check_corpus_sanity\u001b[0m\u001b[0;34m(\u001b[0m\u001b[0mcorpus_iterable\u001b[0m\u001b[0;34m=\u001b[0m\u001b[0mcorpus_iterable\u001b[0m\u001b[0;34m,\u001b[0m \u001b[0mcorpus_file\u001b[0m\u001b[0;34m=\u001b[0m\u001b[0mcorpus_file\u001b[0m\u001b[0;34m,\u001b[0m \u001b[0mpasses\u001b[0m\u001b[0;34m=\u001b[0m\u001b[0;34m(\u001b[0m\u001b[0mepochs\u001b[0m \u001b[0;34m+\u001b[0m \u001b[0;36m1\u001b[0m\u001b[0;34m)\u001b[0m\u001b[0;34m)\u001b[0m\u001b[0;34m\u001b[0m\u001b[0;34m\u001b[0m\u001b[0m\n\u001b[1;32m    429\u001b[0m             \u001b[0mself\u001b[0m\u001b[0;34m.\u001b[0m\u001b[0mbuild_vocab\u001b[0m\u001b[0;34m(\u001b[0m\u001b[0mcorpus_iterable\u001b[0m\u001b[0;34m=\u001b[0m\u001b[0mcorpus_iterable\u001b[0m\u001b[0;34m,\u001b[0m \u001b[0mcorpus_file\u001b[0m\u001b[0;34m=\u001b[0m\u001b[0mcorpus_file\u001b[0m\u001b[0;34m,\u001b[0m \u001b[0mtrim_rule\u001b[0m\u001b[0;34m=\u001b[0m\u001b[0mtrim_rule\u001b[0m\u001b[0;34m)\u001b[0m\u001b[0;34m\u001b[0m\u001b[0;34m\u001b[0m\u001b[0m\n\u001b[0;32m--> 430\u001b[0;31m             self.train(\n\u001b[0m\u001b[1;32m    431\u001b[0m                 \u001b[0mcorpus_iterable\u001b[0m\u001b[0;34m=\u001b[0m\u001b[0mcorpus_iterable\u001b[0m\u001b[0;34m,\u001b[0m \u001b[0mcorpus_file\u001b[0m\u001b[0;34m=\u001b[0m\u001b[0mcorpus_file\u001b[0m\u001b[0;34m,\u001b[0m \u001b[0mtotal_examples\u001b[0m\u001b[0;34m=\u001b[0m\u001b[0mself\u001b[0m\u001b[0;34m.\u001b[0m\u001b[0mcorpus_count\u001b[0m\u001b[0;34m,\u001b[0m\u001b[0;34m\u001b[0m\u001b[0;34m\u001b[0m\u001b[0m\n\u001b[1;32m    432\u001b[0m                 \u001b[0mtotal_words\u001b[0m\u001b[0;34m=\u001b[0m\u001b[0mself\u001b[0m\u001b[0;34m.\u001b[0m\u001b[0mcorpus_total_words\u001b[0m\u001b[0;34m,\u001b[0m \u001b[0mepochs\u001b[0m\u001b[0;34m=\u001b[0m\u001b[0mself\u001b[0m\u001b[0;34m.\u001b[0m\u001b[0mepochs\u001b[0m\u001b[0;34m,\u001b[0m \u001b[0mstart_alpha\u001b[0m\u001b[0;34m=\u001b[0m\u001b[0mself\u001b[0m\u001b[0;34m.\u001b[0m\u001b[0malpha\u001b[0m\u001b[0;34m,\u001b[0m\u001b[0;34m\u001b[0m\u001b[0;34m\u001b[0m\u001b[0m\n",
            "\u001b[0;32m/usr/local/lib/python3.10/dist-packages/gensim/models/word2vec.py\u001b[0m in \u001b[0;36mtrain\u001b[0;34m(self, corpus_iterable, corpus_file, total_examples, total_words, epochs, start_alpha, end_alpha, word_count, queue_factor, report_delay, compute_loss, callbacks, **kwargs)\u001b[0m\n\u001b[1;32m   1071\u001b[0m \u001b[0;34m\u001b[0m\u001b[0m\n\u001b[1;32m   1072\u001b[0m             \u001b[0;32mif\u001b[0m \u001b[0mcorpus_iterable\u001b[0m \u001b[0;32mis\u001b[0m \u001b[0;32mnot\u001b[0m \u001b[0;32mNone\u001b[0m\u001b[0;34m:\u001b[0m\u001b[0;34m\u001b[0m\u001b[0;34m\u001b[0m\u001b[0m\n\u001b[0;32m-> 1073\u001b[0;31m                 trained_word_count_epoch, raw_word_count_epoch, job_tally_epoch = self._train_epoch(\n\u001b[0m\u001b[1;32m   1074\u001b[0m                     \u001b[0mcorpus_iterable\u001b[0m\u001b[0;34m,\u001b[0m \u001b[0mcur_epoch\u001b[0m\u001b[0;34m=\u001b[0m\u001b[0mcur_epoch\u001b[0m\u001b[0;34m,\u001b[0m \u001b[0mtotal_examples\u001b[0m\u001b[0;34m=\u001b[0m\u001b[0mtotal_examples\u001b[0m\u001b[0;34m,\u001b[0m\u001b[0;34m\u001b[0m\u001b[0;34m\u001b[0m\u001b[0m\n\u001b[1;32m   1075\u001b[0m                     \u001b[0mtotal_words\u001b[0m\u001b[0;34m=\u001b[0m\u001b[0mtotal_words\u001b[0m\u001b[0;34m,\u001b[0m \u001b[0mqueue_factor\u001b[0m\u001b[0;34m=\u001b[0m\u001b[0mqueue_factor\u001b[0m\u001b[0;34m,\u001b[0m \u001b[0mreport_delay\u001b[0m\u001b[0;34m=\u001b[0m\u001b[0mreport_delay\u001b[0m\u001b[0;34m,\u001b[0m\u001b[0;34m\u001b[0m\u001b[0;34m\u001b[0m\u001b[0m\n",
            "\u001b[0;32m/usr/local/lib/python3.10/dist-packages/gensim/models/word2vec.py\u001b[0m in \u001b[0;36m_train_epoch\u001b[0;34m(self, data_iterable, cur_epoch, total_examples, total_words, queue_factor, report_delay, callbacks)\u001b[0m\n\u001b[1;32m   1432\u001b[0m             \u001b[0mthread\u001b[0m\u001b[0;34m.\u001b[0m\u001b[0mstart\u001b[0m\u001b[0;34m(\u001b[0m\u001b[0;34m)\u001b[0m\u001b[0;34m\u001b[0m\u001b[0;34m\u001b[0m\u001b[0m\n\u001b[1;32m   1433\u001b[0m \u001b[0;34m\u001b[0m\u001b[0m\n\u001b[0;32m-> 1434\u001b[0;31m         trained_word_count, raw_word_count, job_tally = self._log_epoch_progress(\n\u001b[0m\u001b[1;32m   1435\u001b[0m             \u001b[0mprogress_queue\u001b[0m\u001b[0;34m,\u001b[0m \u001b[0mjob_queue\u001b[0m\u001b[0;34m,\u001b[0m \u001b[0mcur_epoch\u001b[0m\u001b[0;34m=\u001b[0m\u001b[0mcur_epoch\u001b[0m\u001b[0;34m,\u001b[0m \u001b[0mtotal_examples\u001b[0m\u001b[0;34m=\u001b[0m\u001b[0mtotal_examples\u001b[0m\u001b[0;34m,\u001b[0m\u001b[0;34m\u001b[0m\u001b[0;34m\u001b[0m\u001b[0m\n\u001b[1;32m   1436\u001b[0m             \u001b[0mtotal_words\u001b[0m\u001b[0;34m=\u001b[0m\u001b[0mtotal_words\u001b[0m\u001b[0;34m,\u001b[0m \u001b[0mreport_delay\u001b[0m\u001b[0;34m=\u001b[0m\u001b[0mreport_delay\u001b[0m\u001b[0;34m,\u001b[0m \u001b[0mis_corpus_file_mode\u001b[0m\u001b[0;34m=\u001b[0m\u001b[0;32mFalse\u001b[0m\u001b[0;34m,\u001b[0m\u001b[0;34m\u001b[0m\u001b[0;34m\u001b[0m\u001b[0m\n",
            "\u001b[0;32m/usr/local/lib/python3.10/dist-packages/gensim/models/word2vec.py\u001b[0m in \u001b[0;36m_log_epoch_progress\u001b[0;34m(self, progress_queue, job_queue, cur_epoch, total_examples, total_words, report_delay, is_corpus_file_mode)\u001b[0m\n\u001b[1;32m   1287\u001b[0m \u001b[0;34m\u001b[0m\u001b[0m\n\u001b[1;32m   1288\u001b[0m         \u001b[0;32mwhile\u001b[0m \u001b[0munfinished_worker_count\u001b[0m \u001b[0;34m>\u001b[0m \u001b[0;36m0\u001b[0m\u001b[0;34m:\u001b[0m\u001b[0;34m\u001b[0m\u001b[0;34m\u001b[0m\u001b[0m\n\u001b[0;32m-> 1289\u001b[0;31m             \u001b[0mreport\u001b[0m \u001b[0;34m=\u001b[0m \u001b[0mprogress_queue\u001b[0m\u001b[0;34m.\u001b[0m\u001b[0mget\u001b[0m\u001b[0;34m(\u001b[0m\u001b[0;34m)\u001b[0m  \u001b[0;31m# blocks if workers too slow\u001b[0m\u001b[0;34m\u001b[0m\u001b[0;34m\u001b[0m\u001b[0m\n\u001b[0m\u001b[1;32m   1290\u001b[0m             \u001b[0;32mif\u001b[0m \u001b[0mreport\u001b[0m \u001b[0;32mis\u001b[0m \u001b[0;32mNone\u001b[0m\u001b[0;34m:\u001b[0m  \u001b[0;31m# a thread reporting that it finished\u001b[0m\u001b[0;34m\u001b[0m\u001b[0;34m\u001b[0m\u001b[0m\n\u001b[1;32m   1291\u001b[0m                 \u001b[0munfinished_worker_count\u001b[0m \u001b[0;34m-=\u001b[0m \u001b[0;36m1\u001b[0m\u001b[0;34m\u001b[0m\u001b[0;34m\u001b[0m\u001b[0m\n",
            "\u001b[0;32m/usr/lib/python3.10/queue.py\u001b[0m in \u001b[0;36mget\u001b[0;34m(self, block, timeout)\u001b[0m\n\u001b[1;32m    169\u001b[0m             \u001b[0;32melif\u001b[0m \u001b[0mtimeout\u001b[0m \u001b[0;32mis\u001b[0m \u001b[0;32mNone\u001b[0m\u001b[0;34m:\u001b[0m\u001b[0;34m\u001b[0m\u001b[0;34m\u001b[0m\u001b[0m\n\u001b[1;32m    170\u001b[0m                 \u001b[0;32mwhile\u001b[0m \u001b[0;32mnot\u001b[0m \u001b[0mself\u001b[0m\u001b[0;34m.\u001b[0m\u001b[0m_qsize\u001b[0m\u001b[0;34m(\u001b[0m\u001b[0;34m)\u001b[0m\u001b[0;34m:\u001b[0m\u001b[0;34m\u001b[0m\u001b[0;34m\u001b[0m\u001b[0m\n\u001b[0;32m--> 171\u001b[0;31m                     \u001b[0mself\u001b[0m\u001b[0;34m.\u001b[0m\u001b[0mnot_empty\u001b[0m\u001b[0;34m.\u001b[0m\u001b[0mwait\u001b[0m\u001b[0;34m(\u001b[0m\u001b[0;34m)\u001b[0m\u001b[0;34m\u001b[0m\u001b[0;34m\u001b[0m\u001b[0m\n\u001b[0m\u001b[1;32m    172\u001b[0m             \u001b[0;32melif\u001b[0m \u001b[0mtimeout\u001b[0m \u001b[0;34m<\u001b[0m \u001b[0;36m0\u001b[0m\u001b[0;34m:\u001b[0m\u001b[0;34m\u001b[0m\u001b[0;34m\u001b[0m\u001b[0m\n\u001b[1;32m    173\u001b[0m                 \u001b[0;32mraise\u001b[0m \u001b[0mValueError\u001b[0m\u001b[0;34m(\u001b[0m\u001b[0;34m\"'timeout' must be a non-negative number\"\u001b[0m\u001b[0;34m)\u001b[0m\u001b[0;34m\u001b[0m\u001b[0;34m\u001b[0m\u001b[0m\n",
            "\u001b[0;32m/usr/lib/python3.10/threading.py\u001b[0m in \u001b[0;36mwait\u001b[0;34m(self, timeout)\u001b[0m\n\u001b[1;32m    318\u001b[0m         \u001b[0;32mtry\u001b[0m\u001b[0;34m:\u001b[0m    \u001b[0;31m# restore state no matter what (e.g., KeyboardInterrupt)\u001b[0m\u001b[0;34m\u001b[0m\u001b[0;34m\u001b[0m\u001b[0m\n\u001b[1;32m    319\u001b[0m             \u001b[0;32mif\u001b[0m \u001b[0mtimeout\u001b[0m \u001b[0;32mis\u001b[0m \u001b[0;32mNone\u001b[0m\u001b[0;34m:\u001b[0m\u001b[0;34m\u001b[0m\u001b[0;34m\u001b[0m\u001b[0m\n\u001b[0;32m--> 320\u001b[0;31m                 \u001b[0mwaiter\u001b[0m\u001b[0;34m.\u001b[0m\u001b[0macquire\u001b[0m\u001b[0;34m(\u001b[0m\u001b[0;34m)\u001b[0m\u001b[0;34m\u001b[0m\u001b[0;34m\u001b[0m\u001b[0m\n\u001b[0m\u001b[1;32m    321\u001b[0m                 \u001b[0mgotit\u001b[0m \u001b[0;34m=\u001b[0m \u001b[0;32mTrue\u001b[0m\u001b[0;34m\u001b[0m\u001b[0;34m\u001b[0m\u001b[0m\n\u001b[1;32m    322\u001b[0m             \u001b[0;32melse\u001b[0m\u001b[0;34m:\u001b[0m\u001b[0;34m\u001b[0m\u001b[0;34m\u001b[0m\u001b[0m\n",
            "\u001b[0;31mKeyboardInterrupt\u001b[0m: "
          ]
        }
      ]
    },
    {
      "cell_type": "code",
      "source": [
        "\n",
        "\n",
        "# Flatten the list of words to get unique words across all models for PCA\n",
        "all_words = set(word for words in top_words.values() for word, _ in words.items())\n",
        "word_vectors = {word: models[school].wv[word] for school in top_words for word in top_words[school] if word in models[school].wv}\n",
        "\n",
        "# Convert dictionary to array for PCA\n",
        "words_list = list(word_vectors.keys())\n",
        "vectors = np.array(list(word_vectors.values()))\n",
        "\n",
        "# PCA transformation\n",
        "pca = PCA(n_components=2)\n",
        "transformed_vectors = pca.fit_transform(vectors)\n"
      ],
      "metadata": {
        "colab": {
          "base_uri": "https://localhost:8080/"
        },
        "id": "mZiMJysBV5l7",
        "outputId": "55a8c12c-5916-4049-b4c5-32a185b1fbc8"
      },
      "execution_count": 30,
      "outputs": [
        {
          "output_type": "stream",
          "name": "stderr",
          "text": [
            "WARNING:gensim.models.word2vec:Each 'sentences' item should be a list of words (usually unicode strings). First item here is instead plain <class 'str'>.\n",
            "WARNING:gensim.models.word2vec:Each 'sentences' item should be a list of words (usually unicode strings). First item here is instead plain <class 'str'>.\n",
            "WARNING:gensim.models.word2vec:Each 'sentences' item should be a list of words (usually unicode strings). First item here is instead plain <class 'str'>.\n",
            "WARNING:gensim.models.word2vec:Each 'sentences' item should be a list of words (usually unicode strings). First item here is instead plain <class 'str'>.\n",
            "WARNING:gensim.models.word2vec:Each 'sentences' item should be a list of words (usually unicode strings). First item here is instead plain <class 'str'>.\n",
            "WARNING:gensim.models.word2vec:Each 'sentences' item should be a list of words (usually unicode strings). First item here is instead plain <class 'str'>.\n",
            "WARNING:gensim.models.word2vec:Each 'sentences' item should be a list of words (usually unicode strings). First item here is instead plain <class 'str'>.\n",
            "WARNING:gensim.models.word2vec:Each 'sentences' item should be a list of words (usually unicode strings). First item here is instead plain <class 'str'>.\n",
            "WARNING:gensim.models.word2vec:Each 'sentences' item should be a list of words (usually unicode strings). First item here is instead plain <class 'str'>.\n",
            "WARNING:gensim.models.word2vec:Each 'sentences' item should be a list of words (usually unicode strings). First item here is instead plain <class 'str'>.\n",
            "WARNING:gensim.models.word2vec:Each 'sentences' item should be a list of words (usually unicode strings). First item here is instead plain <class 'str'>.\n"
          ]
        }
      ]
    },
    {
      "cell_type": "code",
      "source": [
        "plt.figure(figsize=(12, 8))\n",
        "for i, school in enumerate(top_words):\n",
        "    start = i * 5\n",
        "    end = start + 5\n",
        "    plt.scatter(transformed_vectors[start:end, 0], transformed_vectors[start:end, 1], label=school, c=colors[i % len(colors)])\n",
        "    for word, (x, y) in zip(top_words[school], transformed_vectors[start:end]):\n",
        "        plt.annotate(word, (x, y), textcoords=\"offset points\", xytext=(0,10), ha='center')\n",
        "\n",
        "plt.title('Top Keywords by School in Word Embedding Space')\n",
        "plt.legend()\n",
        "plt.grid(True)\n",
        "plt.show()"
      ],
      "metadata": {
        "colab": {
          "base_uri": "https://localhost:8080/",
          "height": 1000
        },
        "id": "ppgkmEUIVGUG",
        "outputId": "496cf8fe-225d-48a7-d8d0-99dff48f97dd"
      },
      "execution_count": 31,
      "outputs": [
        {
          "output_type": "error",
          "ename": "ValueError",
          "evalue": "'c' argument must be a color, a sequence of colors, or a sequence of numbers, not 'p'",
          "traceback": [
            "\u001b[0;31m---------------------------------------------------------------------------\u001b[0m",
            "\u001b[0;31mValueError\u001b[0m                                Traceback (most recent call last)",
            "\u001b[0;32m/usr/local/lib/python3.10/dist-packages/matplotlib/axes/_axes.py\u001b[0m in \u001b[0;36m_parse_scatter_color_args\u001b[0;34m(c, edgecolors, kwargs, xsize, get_next_color_func)\u001b[0m\n\u001b[1;32m   4438\u001b[0m             \u001b[0;32mtry\u001b[0m\u001b[0;34m:\u001b[0m  \u001b[0;31m# Is 'c' acceptable as PathCollection facecolors?\u001b[0m\u001b[0;34m\u001b[0m\u001b[0;34m\u001b[0m\u001b[0m\n\u001b[0;32m-> 4439\u001b[0;31m                 \u001b[0mcolors\u001b[0m \u001b[0;34m=\u001b[0m \u001b[0mmcolors\u001b[0m\u001b[0;34m.\u001b[0m\u001b[0mto_rgba_array\u001b[0m\u001b[0;34m(\u001b[0m\u001b[0mc\u001b[0m\u001b[0;34m)\u001b[0m\u001b[0;34m\u001b[0m\u001b[0;34m\u001b[0m\u001b[0m\n\u001b[0m\u001b[1;32m   4440\u001b[0m             \u001b[0;32mexcept\u001b[0m \u001b[0;34m(\u001b[0m\u001b[0mTypeError\u001b[0m\u001b[0;34m,\u001b[0m \u001b[0mValueError\u001b[0m\u001b[0;34m)\u001b[0m \u001b[0;32mas\u001b[0m \u001b[0merr\u001b[0m\u001b[0;34m:\u001b[0m\u001b[0;34m\u001b[0m\u001b[0;34m\u001b[0m\u001b[0m\n",
            "\u001b[0;32m/usr/local/lib/python3.10/dist-packages/matplotlib/colors.py\u001b[0m in \u001b[0;36mto_rgba_array\u001b[0;34m(c, alpha)\u001b[0m\n\u001b[1;32m    470\u001b[0m     \u001b[0;32mif\u001b[0m \u001b[0misinstance\u001b[0m\u001b[0;34m(\u001b[0m\u001b[0mc\u001b[0m\u001b[0;34m,\u001b[0m \u001b[0mstr\u001b[0m\u001b[0;34m)\u001b[0m\u001b[0;34m:\u001b[0m\u001b[0;34m\u001b[0m\u001b[0;34m\u001b[0m\u001b[0m\n\u001b[0;32m--> 471\u001b[0;31m         \u001b[0;32mraise\u001b[0m \u001b[0mValueError\u001b[0m\u001b[0;34m(\u001b[0m\u001b[0;34mf\"{c!r} is not a valid color value.\"\u001b[0m\u001b[0;34m)\u001b[0m\u001b[0;34m\u001b[0m\u001b[0;34m\u001b[0m\u001b[0m\n\u001b[0m\u001b[1;32m    472\u001b[0m \u001b[0;34m\u001b[0m\u001b[0m\n",
            "\u001b[0;31mValueError\u001b[0m: 'p' is not a valid color value.",
            "\nThe above exception was the direct cause of the following exception:\n",
            "\u001b[0;31mValueError\u001b[0m                                Traceback (most recent call last)",
            "\u001b[0;32m<ipython-input-31-eef0fdd81b17>\u001b[0m in \u001b[0;36m<cell line: 2>\u001b[0;34m()\u001b[0m\n\u001b[1;32m      3\u001b[0m     \u001b[0mstart\u001b[0m \u001b[0;34m=\u001b[0m \u001b[0mi\u001b[0m \u001b[0;34m*\u001b[0m \u001b[0;36m5\u001b[0m\u001b[0;34m\u001b[0m\u001b[0;34m\u001b[0m\u001b[0m\n\u001b[1;32m      4\u001b[0m     \u001b[0mend\u001b[0m \u001b[0;34m=\u001b[0m \u001b[0mstart\u001b[0m \u001b[0;34m+\u001b[0m \u001b[0;36m5\u001b[0m\u001b[0;34m\u001b[0m\u001b[0;34m\u001b[0m\u001b[0m\n\u001b[0;32m----> 5\u001b[0;31m     \u001b[0mplt\u001b[0m\u001b[0;34m.\u001b[0m\u001b[0mscatter\u001b[0m\u001b[0;34m(\u001b[0m\u001b[0mtransformed_vectors\u001b[0m\u001b[0;34m[\u001b[0m\u001b[0mstart\u001b[0m\u001b[0;34m:\u001b[0m\u001b[0mend\u001b[0m\u001b[0;34m,\u001b[0m \u001b[0;36m0\u001b[0m\u001b[0;34m]\u001b[0m\u001b[0;34m,\u001b[0m \u001b[0mtransformed_vectors\u001b[0m\u001b[0;34m[\u001b[0m\u001b[0mstart\u001b[0m\u001b[0;34m:\u001b[0m\u001b[0mend\u001b[0m\u001b[0;34m,\u001b[0m \u001b[0;36m1\u001b[0m\u001b[0;34m]\u001b[0m\u001b[0;34m,\u001b[0m \u001b[0mlabel\u001b[0m\u001b[0;34m=\u001b[0m\u001b[0mschool\u001b[0m\u001b[0;34m,\u001b[0m \u001b[0mc\u001b[0m\u001b[0;34m=\u001b[0m\u001b[0mcolors\u001b[0m\u001b[0;34m[\u001b[0m\u001b[0mi\u001b[0m \u001b[0;34m%\u001b[0m \u001b[0mlen\u001b[0m\u001b[0;34m(\u001b[0m\u001b[0mcolors\u001b[0m\u001b[0;34m)\u001b[0m\u001b[0;34m]\u001b[0m\u001b[0;34m)\u001b[0m\u001b[0;34m\u001b[0m\u001b[0;34m\u001b[0m\u001b[0m\n\u001b[0m\u001b[1;32m      6\u001b[0m     \u001b[0;32mfor\u001b[0m \u001b[0mword\u001b[0m\u001b[0;34m,\u001b[0m \u001b[0;34m(\u001b[0m\u001b[0mx\u001b[0m\u001b[0;34m,\u001b[0m \u001b[0my\u001b[0m\u001b[0;34m)\u001b[0m \u001b[0;32min\u001b[0m \u001b[0mzip\u001b[0m\u001b[0;34m(\u001b[0m\u001b[0mtop_words\u001b[0m\u001b[0;34m[\u001b[0m\u001b[0mschool\u001b[0m\u001b[0;34m]\u001b[0m\u001b[0;34m,\u001b[0m \u001b[0mtransformed_vectors\u001b[0m\u001b[0;34m[\u001b[0m\u001b[0mstart\u001b[0m\u001b[0;34m:\u001b[0m\u001b[0mend\u001b[0m\u001b[0;34m]\u001b[0m\u001b[0;34m)\u001b[0m\u001b[0;34m:\u001b[0m\u001b[0;34m\u001b[0m\u001b[0;34m\u001b[0m\u001b[0m\n\u001b[1;32m      7\u001b[0m         \u001b[0mplt\u001b[0m\u001b[0;34m.\u001b[0m\u001b[0mannotate\u001b[0m\u001b[0;34m(\u001b[0m\u001b[0mword\u001b[0m\u001b[0;34m,\u001b[0m \u001b[0;34m(\u001b[0m\u001b[0mx\u001b[0m\u001b[0;34m,\u001b[0m \u001b[0my\u001b[0m\u001b[0;34m)\u001b[0m\u001b[0;34m,\u001b[0m \u001b[0mtextcoords\u001b[0m\u001b[0;34m=\u001b[0m\u001b[0;34m\"offset points\"\u001b[0m\u001b[0;34m,\u001b[0m \u001b[0mxytext\u001b[0m\u001b[0;34m=\u001b[0m\u001b[0;34m(\u001b[0m\u001b[0;36m0\u001b[0m\u001b[0;34m,\u001b[0m\u001b[0;36m10\u001b[0m\u001b[0;34m)\u001b[0m\u001b[0;34m,\u001b[0m \u001b[0mha\u001b[0m\u001b[0;34m=\u001b[0m\u001b[0;34m'center'\u001b[0m\u001b[0;34m)\u001b[0m\u001b[0;34m\u001b[0m\u001b[0;34m\u001b[0m\u001b[0m\n",
            "\u001b[0;32m/usr/local/lib/python3.10/dist-packages/matplotlib/pyplot.py\u001b[0m in \u001b[0;36mscatter\u001b[0;34m(x, y, s, c, marker, cmap, norm, vmin, vmax, alpha, linewidths, edgecolors, plotnonfinite, data, **kwargs)\u001b[0m\n\u001b[1;32m   2860\u001b[0m         \u001b[0mvmin\u001b[0m\u001b[0;34m=\u001b[0m\u001b[0;32mNone\u001b[0m\u001b[0;34m,\u001b[0m \u001b[0mvmax\u001b[0m\u001b[0;34m=\u001b[0m\u001b[0;32mNone\u001b[0m\u001b[0;34m,\u001b[0m \u001b[0malpha\u001b[0m\u001b[0;34m=\u001b[0m\u001b[0;32mNone\u001b[0m\u001b[0;34m,\u001b[0m \u001b[0mlinewidths\u001b[0m\u001b[0;34m=\u001b[0m\u001b[0;32mNone\u001b[0m\u001b[0;34m,\u001b[0m \u001b[0;34m*\u001b[0m\u001b[0;34m,\u001b[0m\u001b[0;34m\u001b[0m\u001b[0;34m\u001b[0m\u001b[0m\n\u001b[1;32m   2861\u001b[0m         edgecolors=None, plotnonfinite=False, data=None, **kwargs):\n\u001b[0;32m-> 2862\u001b[0;31m     __ret = gca().scatter(\n\u001b[0m\u001b[1;32m   2863\u001b[0m         \u001b[0mx\u001b[0m\u001b[0;34m,\u001b[0m \u001b[0my\u001b[0m\u001b[0;34m,\u001b[0m \u001b[0ms\u001b[0m\u001b[0;34m=\u001b[0m\u001b[0ms\u001b[0m\u001b[0;34m,\u001b[0m \u001b[0mc\u001b[0m\u001b[0;34m=\u001b[0m\u001b[0mc\u001b[0m\u001b[0;34m,\u001b[0m \u001b[0mmarker\u001b[0m\u001b[0;34m=\u001b[0m\u001b[0mmarker\u001b[0m\u001b[0;34m,\u001b[0m \u001b[0mcmap\u001b[0m\u001b[0;34m=\u001b[0m\u001b[0mcmap\u001b[0m\u001b[0;34m,\u001b[0m \u001b[0mnorm\u001b[0m\u001b[0;34m=\u001b[0m\u001b[0mnorm\u001b[0m\u001b[0;34m,\u001b[0m\u001b[0;34m\u001b[0m\u001b[0;34m\u001b[0m\u001b[0m\n\u001b[1;32m   2864\u001b[0m         \u001b[0mvmin\u001b[0m\u001b[0;34m=\u001b[0m\u001b[0mvmin\u001b[0m\u001b[0;34m,\u001b[0m \u001b[0mvmax\u001b[0m\u001b[0;34m=\u001b[0m\u001b[0mvmax\u001b[0m\u001b[0;34m,\u001b[0m \u001b[0malpha\u001b[0m\u001b[0;34m=\u001b[0m\u001b[0malpha\u001b[0m\u001b[0;34m,\u001b[0m \u001b[0mlinewidths\u001b[0m\u001b[0;34m=\u001b[0m\u001b[0mlinewidths\u001b[0m\u001b[0;34m,\u001b[0m\u001b[0;34m\u001b[0m\u001b[0;34m\u001b[0m\u001b[0m\n",
            "\u001b[0;32m/usr/local/lib/python3.10/dist-packages/matplotlib/__init__.py\u001b[0m in \u001b[0;36minner\u001b[0;34m(ax, data, *args, **kwargs)\u001b[0m\n\u001b[1;32m   1440\u001b[0m     \u001b[0;32mdef\u001b[0m \u001b[0minner\u001b[0m\u001b[0;34m(\u001b[0m\u001b[0max\u001b[0m\u001b[0;34m,\u001b[0m \u001b[0;34m*\u001b[0m\u001b[0margs\u001b[0m\u001b[0;34m,\u001b[0m \u001b[0mdata\u001b[0m\u001b[0;34m=\u001b[0m\u001b[0;32mNone\u001b[0m\u001b[0;34m,\u001b[0m \u001b[0;34m**\u001b[0m\u001b[0mkwargs\u001b[0m\u001b[0;34m)\u001b[0m\u001b[0;34m:\u001b[0m\u001b[0;34m\u001b[0m\u001b[0;34m\u001b[0m\u001b[0m\n\u001b[1;32m   1441\u001b[0m         \u001b[0;32mif\u001b[0m \u001b[0mdata\u001b[0m \u001b[0;32mis\u001b[0m \u001b[0;32mNone\u001b[0m\u001b[0;34m:\u001b[0m\u001b[0;34m\u001b[0m\u001b[0;34m\u001b[0m\u001b[0m\n\u001b[0;32m-> 1442\u001b[0;31m             \u001b[0;32mreturn\u001b[0m \u001b[0mfunc\u001b[0m\u001b[0;34m(\u001b[0m\u001b[0max\u001b[0m\u001b[0;34m,\u001b[0m \u001b[0;34m*\u001b[0m\u001b[0mmap\u001b[0m\u001b[0;34m(\u001b[0m\u001b[0msanitize_sequence\u001b[0m\u001b[0;34m,\u001b[0m \u001b[0margs\u001b[0m\u001b[0;34m)\u001b[0m\u001b[0;34m,\u001b[0m \u001b[0;34m**\u001b[0m\u001b[0mkwargs\u001b[0m\u001b[0;34m)\u001b[0m\u001b[0;34m\u001b[0m\u001b[0;34m\u001b[0m\u001b[0m\n\u001b[0m\u001b[1;32m   1443\u001b[0m \u001b[0;34m\u001b[0m\u001b[0m\n\u001b[1;32m   1444\u001b[0m         \u001b[0mbound\u001b[0m \u001b[0;34m=\u001b[0m \u001b[0mnew_sig\u001b[0m\u001b[0;34m.\u001b[0m\u001b[0mbind\u001b[0m\u001b[0;34m(\u001b[0m\u001b[0max\u001b[0m\u001b[0;34m,\u001b[0m \u001b[0;34m*\u001b[0m\u001b[0margs\u001b[0m\u001b[0;34m,\u001b[0m \u001b[0;34m**\u001b[0m\u001b[0mkwargs\u001b[0m\u001b[0;34m)\u001b[0m\u001b[0;34m\u001b[0m\u001b[0;34m\u001b[0m\u001b[0m\n",
            "\u001b[0;32m/usr/local/lib/python3.10/dist-packages/matplotlib/axes/_axes.py\u001b[0m in \u001b[0;36mscatter\u001b[0;34m(self, x, y, s, c, marker, cmap, norm, vmin, vmax, alpha, linewidths, edgecolors, plotnonfinite, **kwargs)\u001b[0m\n\u001b[1;32m   4600\u001b[0m             \u001b[0morig_edgecolor\u001b[0m \u001b[0;34m=\u001b[0m \u001b[0mkwargs\u001b[0m\u001b[0;34m.\u001b[0m\u001b[0mget\u001b[0m\u001b[0;34m(\u001b[0m\u001b[0;34m'edgecolor'\u001b[0m\u001b[0;34m,\u001b[0m \u001b[0;32mNone\u001b[0m\u001b[0;34m)\u001b[0m\u001b[0;34m\u001b[0m\u001b[0;34m\u001b[0m\u001b[0m\n\u001b[1;32m   4601\u001b[0m         \u001b[0mc\u001b[0m\u001b[0;34m,\u001b[0m \u001b[0mcolors\u001b[0m\u001b[0;34m,\u001b[0m \u001b[0medgecolors\u001b[0m \u001b[0;34m=\u001b[0m\u001b[0;31m \u001b[0m\u001b[0;31m\\\u001b[0m\u001b[0;34m\u001b[0m\u001b[0;34m\u001b[0m\u001b[0m\n\u001b[0;32m-> 4602\u001b[0;31m             self._parse_scatter_color_args(\n\u001b[0m\u001b[1;32m   4603\u001b[0m                 \u001b[0mc\u001b[0m\u001b[0;34m,\u001b[0m \u001b[0medgecolors\u001b[0m\u001b[0;34m,\u001b[0m \u001b[0mkwargs\u001b[0m\u001b[0;34m,\u001b[0m \u001b[0mx\u001b[0m\u001b[0;34m.\u001b[0m\u001b[0msize\u001b[0m\u001b[0;34m,\u001b[0m\u001b[0;34m\u001b[0m\u001b[0;34m\u001b[0m\u001b[0m\n\u001b[1;32m   4604\u001b[0m                 get_next_color_func=self._get_patches_for_fill.get_next_color)\n",
            "\u001b[0;32m/usr/local/lib/python3.10/dist-packages/matplotlib/axes/_axes.py\u001b[0m in \u001b[0;36m_parse_scatter_color_args\u001b[0;34m(c, edgecolors, kwargs, xsize, get_next_color_func)\u001b[0m\n\u001b[1;32m   4446\u001b[0m                     \u001b[0;31m# Both the mapping *and* the RGBA conversion failed: pretty\u001b[0m\u001b[0;34m\u001b[0m\u001b[0;34m\u001b[0m\u001b[0m\n\u001b[1;32m   4447\u001b[0m                     \u001b[0;31m# severe failure => one may appreciate a verbose feedback.\u001b[0m\u001b[0;34m\u001b[0m\u001b[0;34m\u001b[0m\u001b[0m\n\u001b[0;32m-> 4448\u001b[0;31m                     raise ValueError(\n\u001b[0m\u001b[1;32m   4449\u001b[0m                         \u001b[0;34mf\"'c' argument must be a color, a sequence of colors, \"\u001b[0m\u001b[0;34m\u001b[0m\u001b[0;34m\u001b[0m\u001b[0m\n\u001b[1;32m   4450\u001b[0m                         f\"or a sequence of numbers, not {c!r}\") from err\n",
            "\u001b[0;31mValueError\u001b[0m: 'c' argument must be a color, a sequence of colors, or a sequence of numbers, not 'p'"
          ]
        },
        {
          "output_type": "display_data",
          "data": {
            "text/plain": [
              "<Figure size 1200x800 with 1 Axes>"
            ],
            "image/png": "[encoded data removed]"
          },
          "metadata": {}
        }
      ]
    },
    {
      "cell_type": "code",
      "source": [],
      "metadata": {
        "id": "LtTGde1aX8Wt"
      },
      "execution_count": null,
      "outputs": []
    }
  ],
  "metadata": {
    "colab": {
      "provenance": []
    },
    "kernelspec": {
      "display_name": "Python 3",
      "name": "python3"
    },
    "language_info": {
      "name": "python"
    }
  },
  "nbformat": 4,
  "nbformat_minor": 0
}